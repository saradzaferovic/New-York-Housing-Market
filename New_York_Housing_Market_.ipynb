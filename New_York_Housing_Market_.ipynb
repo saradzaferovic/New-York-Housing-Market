{
  "nbformat": 4,
  "nbformat_minor": 0,
  "metadata": {
    "colab": {
      "provenance": []
    },
    "kernelspec": {
      "name": "python3",
      "display_name": "Python 3"
    },
    "language_info": {
      "name": "python"
    }
  },
  "cells": [
    {
      "cell_type": "code",
      "execution_count": null,
      "metadata": {
        "colab": {
          "base_uri": "https://localhost:8080/"
        },
        "id": "1Dvc25F3EIyh",
        "outputId": "d002a226-42ff-4939-f80b-585431d34e03"
      },
      "outputs": [
        {
          "output_type": "stream",
          "name": "stdout",
          "text": [
            "Requirement already satisfied: kaggle in /usr/local/lib/python3.10/dist-packages (1.6.12)\n",
            "Requirement already satisfied: six>=1.10 in /usr/local/lib/python3.10/dist-packages (from kaggle) (1.16.0)\n",
            "Requirement already satisfied: certifi>=2023.7.22 in /usr/local/lib/python3.10/dist-packages (from kaggle) (2024.2.2)\n",
            "Requirement already satisfied: python-dateutil in /usr/local/lib/python3.10/dist-packages (from kaggle) (2.8.2)\n",
            "Requirement already satisfied: requests in /usr/local/lib/python3.10/dist-packages (from kaggle) (2.31.0)\n",
            "Requirement already satisfied: tqdm in /usr/local/lib/python3.10/dist-packages (from kaggle) (4.66.4)\n",
            "Requirement already satisfied: python-slugify in /usr/local/lib/python3.10/dist-packages (from kaggle) (8.0.4)\n",
            "Requirement already satisfied: urllib3 in /usr/local/lib/python3.10/dist-packages (from kaggle) (2.0.7)\n",
            "Requirement already satisfied: bleach in /usr/local/lib/python3.10/dist-packages (from kaggle) (6.1.0)\n",
            "Requirement already satisfied: webencodings in /usr/local/lib/python3.10/dist-packages (from bleach->kaggle) (0.5.1)\n",
            "Requirement already satisfied: text-unidecode>=1.3 in /usr/local/lib/python3.10/dist-packages (from python-slugify->kaggle) (1.3)\n",
            "Requirement already satisfied: charset-normalizer<4,>=2 in /usr/local/lib/python3.10/dist-packages (from requests->kaggle) (3.3.2)\n",
            "Requirement already satisfied: idna<4,>=2.5 in /usr/local/lib/python3.10/dist-packages (from requests->kaggle) (3.7)\n"
          ]
        }
      ],
      "source": [
        "!pip install kaggle"
      ]
    },
    {
      "cell_type": "code",
      "source": [
        "outfile = open(\"kaggle.json\", \"w\")\n",
        "outfile.write('{\"username\":\"katiechin3180\",\"key\":\"e683357e81568037e09253bd3a9c4855\"}')\n",
        "outfile.close()"
      ],
      "metadata": {
        "id": "XzVS58UWEpRG"
      },
      "execution_count": null,
      "outputs": []
    },
    {
      "cell_type": "markdown",
      "source": [],
      "metadata": {
        "id": "PCpbnA19gA38"
      }
    },
    {
      "cell_type": "code",
      "source": [
        "!ls\n"
      ],
      "metadata": {
        "colab": {
          "base_uri": "https://localhost:8080/"
        },
        "id": "lvBidCuX-Si8",
        "outputId": "bc39ffc8-795f-475c-c7b1-9d6adc894a76"
      },
      "execution_count": null,
      "outputs": [
        {
          "output_type": "stream",
          "name": "stdout",
          "text": [
            "kaggle.json  sample_data\n"
          ]
        }
      ]
    },
    {
      "cell_type": "code",
      "source": [
        "!mkdir /root/.kaggle\n",
        "!mv kaggle.json /root/.kaggle\n",
        "!chmod 600 /root/.kaggle/kaggle.json\n"
      ],
      "metadata": {
        "id": "AsDJtg9IG0f0"
      },
      "execution_count": null,
      "outputs": []
    },
    {
      "cell_type": "code",
      "source": [
        "!ls /root/.kaggle/"
      ],
      "metadata": {
        "colab": {
          "base_uri": "https://localhost:8080/"
        },
        "id": "fyfbUi0eHn5C",
        "outputId": "07e52845-4cff-4ac6-91ee-9b07a915f7e6"
      },
      "execution_count": null,
      "outputs": [
        {
          "output_type": "stream",
          "name": "stdout",
          "text": [
            "kaggle.json\n"
          ]
        }
      ]
    },
    {
      "cell_type": "code",
      "source": [
        "from kaggle.api.kaggle_api_extended import KaggleApi\n",
        "api = KaggleApi()\n",
        "api.authenticate()\n"
      ],
      "metadata": {
        "id": "_jt5xZqlL_7Y"
      },
      "execution_count": null,
      "outputs": []
    },
    {
      "cell_type": "code",
      "source": [
        "api.dataset_download_file(\"nelgiriyewithana/new-york-housing-market\", \"NY-House-Dataset.csv\")"
      ],
      "metadata": {
        "colab": {
          "base_uri": "https://localhost:8080/"
        },
        "id": "bu-xCODRNL_s",
        "outputId": "83df7a2f-bcf4-43a9-ec84-9afcfb68adbd"
      },
      "execution_count": null,
      "outputs": [
        {
          "output_type": "stream",
          "name": "stdout",
          "text": [
            "Dataset URL: https://www.kaggle.com/datasets/nelgiriyewithana/new-york-housing-market\n"
          ]
        },
        {
          "output_type": "execute_result",
          "data": {
            "text/plain": [
              "True"
            ]
          },
          "metadata": {},
          "execution_count": 7
        }
      ]
    },
    {
      "cell_type": "code",
      "source": [
        "!ls\n"
      ],
      "metadata": {
        "colab": {
          "base_uri": "https://localhost:8080/"
        },
        "id": "V0CIbfvfN5QP",
        "outputId": "d6be570f-d14a-40fa-d13f-25b7fb09ebba"
      },
      "execution_count": null,
      "outputs": [
        {
          "output_type": "stream",
          "name": "stdout",
          "text": [
            "NY-House-Dataset.csv.zip  sample_data\n"
          ]
        }
      ]
    },
    {
      "cell_type": "code",
      "source": [
        "\n",
        "import pandas as pd"
      ],
      "metadata": {
        "id": "F72BlITJODFo"
      },
      "execution_count": null,
      "outputs": []
    },
    {
      "cell_type": "code",
      "source": [
        "df = pd.read_csv(\"NY-House-Dataset.csv.zip\")"
      ],
      "metadata": {
        "id": "CVQLAkjROGmj"
      },
      "execution_count": null,
      "outputs": []
    },
    {
      "cell_type": "code",
      "source": [
        "df=pd.read_csv(\"NY-House-Dataset.csv.zip\")\n",
        "df = df.drop(axis=1,columns=[\"ADDRESS\", \"STATE\", \"MAIN_ADDRESS\", \"ADMINISTRATIVE_AREA_LEVEL_2\", \"STREET_NAME\", \"LONG_NAME\", \"LATITUDE\", \"LONGITUDE\", \"LOCALITY\"])\n",
        "df"
      ],
      "metadata": {
        "colab": {
          "base_uri": "https://localhost:8080/",
          "height": 493
        },
        "id": "VQDXNA-GgvmO",
        "outputId": "2bd6594a-b4e8-42aa-a1e7-712878dcecb8"
      },
      "execution_count": null,
      "outputs": [
        {
          "output_type": "execute_result",
          "data": {
            "text/plain": [
              "                                            BROKERTITLE                TYPE  \\\n",
              "0           Brokered by Douglas Elliman  -111 Fifth Ave      Condo for sale   \n",
              "1                                   Brokered by Serhant      Condo for sale   \n",
              "2                                Brokered by Sowae Corp      House for sale   \n",
              "3                                   Brokered by COMPASS      Condo for sale   \n",
              "4     Brokered by Sotheby's International Realty - E...  Townhouse for sale   \n",
              "...                                                 ...                 ...   \n",
              "4796                                Brokered by COMPASS      Co-op for sale   \n",
              "4797                    Brokered by Mjr Real Estate Llc      Co-op for sale   \n",
              "4798      Brokered by Douglas Elliman - 575 Madison Ave      Co-op for sale   \n",
              "4799            Brokered by E Realty International Corp      Condo for sale   \n",
              "4800                 Brokered by Nyc Realty Brokers Llc      Co-op for sale   \n",
              "\n",
              "          PRICE  BEDS       BATH  PROPERTYSQFT      SUBLOCALITY  \\\n",
              "0        315000     2   2.000000   1400.000000        Manhattan   \n",
              "1     195000000     7  10.000000  17545.000000  New York County   \n",
              "2        260000     4   2.000000   2015.000000  Richmond County   \n",
              "3         69000     3   1.000000    445.000000  New York County   \n",
              "4      55000000     7   2.373861  14175.000000  New York County   \n",
              "...         ...   ...        ...           ...              ...   \n",
              "4796     599000     1   1.000000   2184.207862         New York   \n",
              "4797     245000     1   1.000000   2184.207862    Queens County   \n",
              "4798    1275000     1   1.000000   2184.207862  New York County   \n",
              "4799     598125     2   1.000000    655.000000           Queens   \n",
              "4800     349000     1   1.000000    750.000000         Brooklyn   \n",
              "\n",
              "                                      FORMATTED_ADDRESS  \n",
              "0     Regis Residence, 2 E 55th St #803, New York, N...  \n",
              "1                217 W 57th St, New York, NY 10019, USA  \n",
              "2        620 Sinclair Ave, Staten Island, NY 10312, USA  \n",
              "3                  2 E 55th St, New York, NY 10022, USA  \n",
              "4                  5 E 64th St, New York, NY 10065, USA  \n",
              "...                                                 ...  \n",
              "4796         222 E 80th St #3a, New York, NY 10075, USA  \n",
              "4797            97-40 62nd Dr, Rego Park, NY 11374, USA  \n",
              "4798             427 W 21st St, New York, NY 10011, USA  \n",
              "4799     91-23 Corona Ave. #4b, Flushing, NY 11373, USA  \n",
              "4800      460 Neptune Ave #14a, Brooklyn, NY 11224, USA  \n",
              "\n",
              "[4801 rows x 8 columns]"
            ],
            "text/html": [
              "\n",
              "  <div id=\"df-d4bd742f-bd85-4dd1-bfdb-b006ccb27202\" class=\"colab-df-container\">\n",
              "    <div>\n",
              "<style scoped>\n",
              "    .dataframe tbody tr th:only-of-type {\n",
              "        vertical-align: middle;\n",
              "    }\n",
              "\n",
              "    .dataframe tbody tr th {\n",
              "        vertical-align: top;\n",
              "    }\n",
              "\n",
              "    .dataframe thead th {\n",
              "        text-align: right;\n",
              "    }\n",
              "</style>\n",
              "<table border=\"1\" class=\"dataframe\">\n",
              "  <thead>\n",
              "    <tr style=\"text-align: right;\">\n",
              "      <th></th>\n",
              "      <th>BROKERTITLE</th>\n",
              "      <th>TYPE</th>\n",
              "      <th>PRICE</th>\n",
              "      <th>BEDS</th>\n",
              "      <th>BATH</th>\n",
              "      <th>PROPERTYSQFT</th>\n",
              "      <th>SUBLOCALITY</th>\n",
              "      <th>FORMATTED_ADDRESS</th>\n",
              "    </tr>\n",
              "  </thead>\n",
              "  <tbody>\n",
              "    <tr>\n",
              "      <th>0</th>\n",
              "      <td>Brokered by Douglas Elliman  -111 Fifth Ave</td>\n",
              "      <td>Condo for sale</td>\n",
              "      <td>315000</td>\n",
              "      <td>2</td>\n",
              "      <td>2.000000</td>\n",
              "      <td>1400.000000</td>\n",
              "      <td>Manhattan</td>\n",
              "      <td>Regis Residence, 2 E 55th St #803, New York, N...</td>\n",
              "    </tr>\n",
              "    <tr>\n",
              "      <th>1</th>\n",
              "      <td>Brokered by Serhant</td>\n",
              "      <td>Condo for sale</td>\n",
              "      <td>195000000</td>\n",
              "      <td>7</td>\n",
              "      <td>10.000000</td>\n",
              "      <td>17545.000000</td>\n",
              "      <td>New York County</td>\n",
              "      <td>217 W 57th St, New York, NY 10019, USA</td>\n",
              "    </tr>\n",
              "    <tr>\n",
              "      <th>2</th>\n",
              "      <td>Brokered by Sowae Corp</td>\n",
              "      <td>House for sale</td>\n",
              "      <td>260000</td>\n",
              "      <td>4</td>\n",
              "      <td>2.000000</td>\n",
              "      <td>2015.000000</td>\n",
              "      <td>Richmond County</td>\n",
              "      <td>620 Sinclair Ave, Staten Island, NY 10312, USA</td>\n",
              "    </tr>\n",
              "    <tr>\n",
              "      <th>3</th>\n",
              "      <td>Brokered by COMPASS</td>\n",
              "      <td>Condo for sale</td>\n",
              "      <td>69000</td>\n",
              "      <td>3</td>\n",
              "      <td>1.000000</td>\n",
              "      <td>445.000000</td>\n",
              "      <td>New York County</td>\n",
              "      <td>2 E 55th St, New York, NY 10022, USA</td>\n",
              "    </tr>\n",
              "    <tr>\n",
              "      <th>4</th>\n",
              "      <td>Brokered by Sotheby's International Realty - E...</td>\n",
              "      <td>Townhouse for sale</td>\n",
              "      <td>55000000</td>\n",
              "      <td>7</td>\n",
              "      <td>2.373861</td>\n",
              "      <td>14175.000000</td>\n",
              "      <td>New York County</td>\n",
              "      <td>5 E 64th St, New York, NY 10065, USA</td>\n",
              "    </tr>\n",
              "    <tr>\n",
              "      <th>...</th>\n",
              "      <td>...</td>\n",
              "      <td>...</td>\n",
              "      <td>...</td>\n",
              "      <td>...</td>\n",
              "      <td>...</td>\n",
              "      <td>...</td>\n",
              "      <td>...</td>\n",
              "      <td>...</td>\n",
              "    </tr>\n",
              "    <tr>\n",
              "      <th>4796</th>\n",
              "      <td>Brokered by COMPASS</td>\n",
              "      <td>Co-op for sale</td>\n",
              "      <td>599000</td>\n",
              "      <td>1</td>\n",
              "      <td>1.000000</td>\n",
              "      <td>2184.207862</td>\n",
              "      <td>New York</td>\n",
              "      <td>222 E 80th St #3a, New York, NY 10075, USA</td>\n",
              "    </tr>\n",
              "    <tr>\n",
              "      <th>4797</th>\n",
              "      <td>Brokered by Mjr Real Estate Llc</td>\n",
              "      <td>Co-op for sale</td>\n",
              "      <td>245000</td>\n",
              "      <td>1</td>\n",
              "      <td>1.000000</td>\n",
              "      <td>2184.207862</td>\n",
              "      <td>Queens County</td>\n",
              "      <td>97-40 62nd Dr, Rego Park, NY 11374, USA</td>\n",
              "    </tr>\n",
              "    <tr>\n",
              "      <th>4798</th>\n",
              "      <td>Brokered by Douglas Elliman - 575 Madison Ave</td>\n",
              "      <td>Co-op for sale</td>\n",
              "      <td>1275000</td>\n",
              "      <td>1</td>\n",
              "      <td>1.000000</td>\n",
              "      <td>2184.207862</td>\n",
              "      <td>New York County</td>\n",
              "      <td>427 W 21st St, New York, NY 10011, USA</td>\n",
              "    </tr>\n",
              "    <tr>\n",
              "      <th>4799</th>\n",
              "      <td>Brokered by E Realty International Corp</td>\n",
              "      <td>Condo for sale</td>\n",
              "      <td>598125</td>\n",
              "      <td>2</td>\n",
              "      <td>1.000000</td>\n",
              "      <td>655.000000</td>\n",
              "      <td>Queens</td>\n",
              "      <td>91-23 Corona Ave. #4b, Flushing, NY 11373, USA</td>\n",
              "    </tr>\n",
              "    <tr>\n",
              "      <th>4800</th>\n",
              "      <td>Brokered by Nyc Realty Brokers Llc</td>\n",
              "      <td>Co-op for sale</td>\n",
              "      <td>349000</td>\n",
              "      <td>1</td>\n",
              "      <td>1.000000</td>\n",
              "      <td>750.000000</td>\n",
              "      <td>Brooklyn</td>\n",
              "      <td>460 Neptune Ave #14a, Brooklyn, NY 11224, USA</td>\n",
              "    </tr>\n",
              "  </tbody>\n",
              "</table>\n",
              "<p>4801 rows × 8 columns</p>\n",
              "</div>\n",
              "    <div class=\"colab-df-buttons\">\n",
              "\n",
              "  <div class=\"colab-df-container\">\n",
              "    <button class=\"colab-df-convert\" onclick=\"convertToInteractive('df-d4bd742f-bd85-4dd1-bfdb-b006ccb27202')\"\n",
              "            title=\"Convert this dataframe to an interactive table.\"\n",
              "            style=\"display:none;\">\n",
              "\n",
              "  <svg xmlns=\"http://www.w3.org/2000/svg\" height=\"24px\" viewBox=\"0 -960 960 960\">\n",
              "    <path d=\"M120-120v-720h720v720H120Zm60-500h600v-160H180v160Zm220 220h160v-160H400v160Zm0 220h160v-160H400v160ZM180-400h160v-160H180v160Zm440 0h160v-160H620v160ZM180-180h160v-160H180v160Zm440 0h160v-160H620v160Z\"/>\n",
              "  </svg>\n",
              "    </button>\n",
              "\n",
              "  <style>\n",
              "    .colab-df-container {\n",
              "      display:flex;\n",
              "      gap: 12px;\n",
              "    }\n",
              "\n",
              "    .colab-df-convert {\n",
              "      background-color: #E8F0FE;\n",
              "      border: none;\n",
              "      border-radius: 50%;\n",
              "      cursor: pointer;\n",
              "      display: none;\n",
              "      fill: #1967D2;\n",
              "      height: 32px;\n",
              "      padding: 0 0 0 0;\n",
              "      width: 32px;\n",
              "    }\n",
              "\n",
              "    .colab-df-convert:hover {\n",
              "      background-color: #E2EBFA;\n",
              "      box-shadow: 0px 1px 2px rgba(60, 64, 67, 0.3), 0px 1px 3px 1px rgba(60, 64, 67, 0.15);\n",
              "      fill: #174EA6;\n",
              "    }\n",
              "\n",
              "    .colab-df-buttons div {\n",
              "      margin-bottom: 4px;\n",
              "    }\n",
              "\n",
              "    [theme=dark] .colab-df-convert {\n",
              "      background-color: #3B4455;\n",
              "      fill: #D2E3FC;\n",
              "    }\n",
              "\n",
              "    [theme=dark] .colab-df-convert:hover {\n",
              "      background-color: #434B5C;\n",
              "      box-shadow: 0px 1px 3px 1px rgba(0, 0, 0, 0.15);\n",
              "      filter: drop-shadow(0px 1px 2px rgba(0, 0, 0, 0.3));\n",
              "      fill: #FFFFFF;\n",
              "    }\n",
              "  </style>\n",
              "\n",
              "    <script>\n",
              "      const buttonEl =\n",
              "        document.querySelector('#df-d4bd742f-bd85-4dd1-bfdb-b006ccb27202 button.colab-df-convert');\n",
              "      buttonEl.style.display =\n",
              "        google.colab.kernel.accessAllowed ? 'block' : 'none';\n",
              "\n",
              "      async function convertToInteractive(key) {\n",
              "        const element = document.querySelector('#df-d4bd742f-bd85-4dd1-bfdb-b006ccb27202');\n",
              "        const dataTable =\n",
              "          await google.colab.kernel.invokeFunction('convertToInteractive',\n",
              "                                                    [key], {});\n",
              "        if (!dataTable) return;\n",
              "\n",
              "        const docLinkHtml = 'Like what you see? Visit the ' +\n",
              "          '<a target=\"_blank\" href=https://colab.research.google.com/notebooks/data_table.ipynb>data table notebook</a>'\n",
              "          + ' to learn more about interactive tables.';\n",
              "        element.innerHTML = '';\n",
              "        dataTable['output_type'] = 'display_data';\n",
              "        await google.colab.output.renderOutput(dataTable, element);\n",
              "        const docLink = document.createElement('div');\n",
              "        docLink.innerHTML = docLinkHtml;\n",
              "        element.appendChild(docLink);\n",
              "      }\n",
              "    </script>\n",
              "  </div>\n",
              "\n",
              "\n",
              "<div id=\"df-bf50dc23-85fc-409b-a09e-909a073919d6\">\n",
              "  <button class=\"colab-df-quickchart\" onclick=\"quickchart('df-bf50dc23-85fc-409b-a09e-909a073919d6')\"\n",
              "            title=\"Suggest charts\"\n",
              "            style=\"display:none;\">\n",
              "\n",
              "<svg xmlns=\"http://www.w3.org/2000/svg\" height=\"24px\"viewBox=\"0 0 24 24\"\n",
              "     width=\"24px\">\n",
              "    <g>\n",
              "        <path d=\"M19 3H5c-1.1 0-2 .9-2 2v14c0 1.1.9 2 2 2h14c1.1 0 2-.9 2-2V5c0-1.1-.9-2-2-2zM9 17H7v-7h2v7zm4 0h-2V7h2v10zm4 0h-2v-4h2v4z\"/>\n",
              "    </g>\n",
              "</svg>\n",
              "  </button>\n",
              "\n",
              "<style>\n",
              "  .colab-df-quickchart {\n",
              "      --bg-color: #E8F0FE;\n",
              "      --fill-color: #1967D2;\n",
              "      --hover-bg-color: #E2EBFA;\n",
              "      --hover-fill-color: #174EA6;\n",
              "      --disabled-fill-color: #AAA;\n",
              "      --disabled-bg-color: #DDD;\n",
              "  }\n",
              "\n",
              "  [theme=dark] .colab-df-quickchart {\n",
              "      --bg-color: #3B4455;\n",
              "      --fill-color: #D2E3FC;\n",
              "      --hover-bg-color: #434B5C;\n",
              "      --hover-fill-color: #FFFFFF;\n",
              "      --disabled-bg-color: #3B4455;\n",
              "      --disabled-fill-color: #666;\n",
              "  }\n",
              "\n",
              "  .colab-df-quickchart {\n",
              "    background-color: var(--bg-color);\n",
              "    border: none;\n",
              "    border-radius: 50%;\n",
              "    cursor: pointer;\n",
              "    display: none;\n",
              "    fill: var(--fill-color);\n",
              "    height: 32px;\n",
              "    padding: 0;\n",
              "    width: 32px;\n",
              "  }\n",
              "\n",
              "  .colab-df-quickchart:hover {\n",
              "    background-color: var(--hover-bg-color);\n",
              "    box-shadow: 0 1px 2px rgba(60, 64, 67, 0.3), 0 1px 3px 1px rgba(60, 64, 67, 0.15);\n",
              "    fill: var(--button-hover-fill-color);\n",
              "  }\n",
              "\n",
              "  .colab-df-quickchart-complete:disabled,\n",
              "  .colab-df-quickchart-complete:disabled:hover {\n",
              "    background-color: var(--disabled-bg-color);\n",
              "    fill: var(--disabled-fill-color);\n",
              "    box-shadow: none;\n",
              "  }\n",
              "\n",
              "  .colab-df-spinner {\n",
              "    border: 2px solid var(--fill-color);\n",
              "    border-color: transparent;\n",
              "    border-bottom-color: var(--fill-color);\n",
              "    animation:\n",
              "      spin 1s steps(1) infinite;\n",
              "  }\n",
              "\n",
              "  @keyframes spin {\n",
              "    0% {\n",
              "      border-color: transparent;\n",
              "      border-bottom-color: var(--fill-color);\n",
              "      border-left-color: var(--fill-color);\n",
              "    }\n",
              "    20% {\n",
              "      border-color: transparent;\n",
              "      border-left-color: var(--fill-color);\n",
              "      border-top-color: var(--fill-color);\n",
              "    }\n",
              "    30% {\n",
              "      border-color: transparent;\n",
              "      border-left-color: var(--fill-color);\n",
              "      border-top-color: var(--fill-color);\n",
              "      border-right-color: var(--fill-color);\n",
              "    }\n",
              "    40% {\n",
              "      border-color: transparent;\n",
              "      border-right-color: var(--fill-color);\n",
              "      border-top-color: var(--fill-color);\n",
              "    }\n",
              "    60% {\n",
              "      border-color: transparent;\n",
              "      border-right-color: var(--fill-color);\n",
              "    }\n",
              "    80% {\n",
              "      border-color: transparent;\n",
              "      border-right-color: var(--fill-color);\n",
              "      border-bottom-color: var(--fill-color);\n",
              "    }\n",
              "    90% {\n",
              "      border-color: transparent;\n",
              "      border-bottom-color: var(--fill-color);\n",
              "    }\n",
              "  }\n",
              "</style>\n",
              "\n",
              "  <script>\n",
              "    async function quickchart(key) {\n",
              "      const quickchartButtonEl =\n",
              "        document.querySelector('#' + key + ' button');\n",
              "      quickchartButtonEl.disabled = true;  // To prevent multiple clicks.\n",
              "      quickchartButtonEl.classList.add('colab-df-spinner');\n",
              "      try {\n",
              "        const charts = await google.colab.kernel.invokeFunction(\n",
              "            'suggestCharts', [key], {});\n",
              "      } catch (error) {\n",
              "        console.error('Error during call to suggestCharts:', error);\n",
              "      }\n",
              "      quickchartButtonEl.classList.remove('colab-df-spinner');\n",
              "      quickchartButtonEl.classList.add('colab-df-quickchart-complete');\n",
              "    }\n",
              "    (() => {\n",
              "      let quickchartButtonEl =\n",
              "        document.querySelector('#df-bf50dc23-85fc-409b-a09e-909a073919d6 button');\n",
              "      quickchartButtonEl.style.display =\n",
              "        google.colab.kernel.accessAllowed ? 'block' : 'none';\n",
              "    })();\n",
              "  </script>\n",
              "</div>\n",
              "\n",
              "  <div id=\"id_6862546e-4732-4dca-9256-f61ccec8ac06\">\n",
              "    <style>\n",
              "      .colab-df-generate {\n",
              "        background-color: #E8F0FE;\n",
              "        border: none;\n",
              "        border-radius: 50%;\n",
              "        cursor: pointer;\n",
              "        display: none;\n",
              "        fill: #1967D2;\n",
              "        height: 32px;\n",
              "        padding: 0 0 0 0;\n",
              "        width: 32px;\n",
              "      }\n",
              "\n",
              "      .colab-df-generate:hover {\n",
              "        background-color: #E2EBFA;\n",
              "        box-shadow: 0px 1px 2px rgba(60, 64, 67, 0.3), 0px 1px 3px 1px rgba(60, 64, 67, 0.15);\n",
              "        fill: #174EA6;\n",
              "      }\n",
              "\n",
              "      [theme=dark] .colab-df-generate {\n",
              "        background-color: #3B4455;\n",
              "        fill: #D2E3FC;\n",
              "      }\n",
              "\n",
              "      [theme=dark] .colab-df-generate:hover {\n",
              "        background-color: #434B5C;\n",
              "        box-shadow: 0px 1px 3px 1px rgba(0, 0, 0, 0.15);\n",
              "        filter: drop-shadow(0px 1px 2px rgba(0, 0, 0, 0.3));\n",
              "        fill: #FFFFFF;\n",
              "      }\n",
              "    </style>\n",
              "    <button class=\"colab-df-generate\" onclick=\"generateWithVariable('df')\"\n",
              "            title=\"Generate code using this dataframe.\"\n",
              "            style=\"display:none;\">\n",
              "\n",
              "  <svg xmlns=\"http://www.w3.org/2000/svg\" height=\"24px\"viewBox=\"0 0 24 24\"\n",
              "       width=\"24px\">\n",
              "    <path d=\"M7,19H8.4L18.45,9,17,7.55,7,17.6ZM5,21V16.75L18.45,3.32a2,2,0,0,1,2.83,0l1.4,1.43a1.91,1.91,0,0,1,.58,1.4,1.91,1.91,0,0,1-.58,1.4L9.25,21ZM18.45,9,17,7.55Zm-12,3A5.31,5.31,0,0,0,4.9,8.1,5.31,5.31,0,0,0,1,6.5,5.31,5.31,0,0,0,4.9,4.9,5.31,5.31,0,0,0,6.5,1,5.31,5.31,0,0,0,8.1,4.9,5.31,5.31,0,0,0,12,6.5,5.46,5.46,0,0,0,6.5,12Z\"/>\n",
              "  </svg>\n",
              "    </button>\n",
              "    <script>\n",
              "      (() => {\n",
              "      const buttonEl =\n",
              "        document.querySelector('#id_6862546e-4732-4dca-9256-f61ccec8ac06 button.colab-df-generate');\n",
              "      buttonEl.style.display =\n",
              "        google.colab.kernel.accessAllowed ? 'block' : 'none';\n",
              "\n",
              "      buttonEl.onclick = () => {\n",
              "        google.colab.notebook.generateWithVariable('df');\n",
              "      }\n",
              "      })();\n",
              "    </script>\n",
              "  </div>\n",
              "\n",
              "    </div>\n",
              "  </div>\n"
            ],
            "application/vnd.google.colaboratory.intrinsic+json": {
              "type": "dataframe",
              "variable_name": "df",
              "summary": "{\n  \"name\": \"df\",\n  \"rows\": 4801,\n  \"fields\": [\n    {\n      \"column\": \"BROKERTITLE\",\n      \"properties\": {\n        \"dtype\": \"category\",\n        \"num_unique_values\": 1036,\n        \"samples\": [\n          \"Brokered by LINCOLN V WALTERS II REALTY CORP\",\n          \"Brokered by East Coast REALTORS Inc\",\n          \"Brokered by Welhome Realty Inc\"\n        ],\n        \"semantic_type\": \"\",\n        \"description\": \"\"\n      }\n    },\n    {\n      \"column\": \"TYPE\",\n      \"properties\": {\n        \"dtype\": \"category\",\n        \"num_unique_values\": 13,\n        \"samples\": [\n          \"Mobile house for sale\",\n          \"Pending\",\n          \"Condo for sale\"\n        ],\n        \"semantic_type\": \"\",\n        \"description\": \"\"\n      }\n    },\n    {\n      \"column\": \"PRICE\",\n      \"properties\": {\n        \"dtype\": \"number\",\n        \"std\": 31355246,\n        \"min\": 2494,\n        \"max\": 2147483647,\n        \"num_unique_values\": 1274,\n        \"samples\": [\n          49500,\n          755000,\n          699998\n        ],\n        \"semantic_type\": \"\",\n        \"description\": \"\"\n      }\n    },\n    {\n      \"column\": \"BEDS\",\n      \"properties\": {\n        \"dtype\": \"number\",\n        \"std\": 2,\n        \"min\": 1,\n        \"max\": 50,\n        \"num_unique_values\": 27,\n        \"samples\": [\n          12,\n          14,\n          10\n        ],\n        \"semantic_type\": \"\",\n        \"description\": \"\"\n      }\n    },\n    {\n      \"column\": \"BATH\",\n      \"properties\": {\n        \"dtype\": \"number\",\n        \"std\": 1.9469616305978465,\n        \"min\": 0.0,\n        \"max\": 50.0,\n        \"num_unique_values\": 22,\n        \"samples\": [\n          2.0,\n          13.0,\n          8.0\n        ],\n        \"semantic_type\": \"\",\n        \"description\": \"\"\n      }\n    },\n    {\n      \"column\": \"PROPERTYSQFT\",\n      \"properties\": {\n        \"dtype\": \"number\",\n        \"std\": 2377.140893559752,\n        \"min\": 230.0,\n        \"max\": 65535.0,\n        \"num_unique_values\": 1445,\n        \"samples\": [\n          2472.0,\n          1445.0,\n          1868.0\n        ],\n        \"semantic_type\": \"\",\n        \"description\": \"\"\n      }\n    },\n    {\n      \"column\": \"SUBLOCALITY\",\n      \"properties\": {\n        \"dtype\": \"category\",\n        \"num_unique_values\": 21,\n        \"samples\": [\n          \"Manhattan\",\n          \"Fort Hamilton\",\n          \"Riverdale\"\n        ],\n        \"semantic_type\": \"\",\n        \"description\": \"\"\n      }\n    },\n    {\n      \"column\": \"FORMATTED_ADDRESS\",\n      \"properties\": {\n        \"dtype\": \"string\",\n        \"num_unique_values\": 4550,\n        \"samples\": [\n          \"4410 Cayuga Ave Bsmt B3, Bronx, NY 10471, USA\",\n          \"270-10 Grand Central Pkwy #25k, Little Neck, NY 11362, USA\",\n          \"165 Cromwell Ave #2b, Staten Island, NY 10304, USA\"\n        ],\n        \"semantic_type\": \"\",\n        \"description\": \"\"\n      }\n    }\n  ]\n}"
            }
          },
          "metadata": {},
          "execution_count": 11
        }
      ]
    },
    {
      "cell_type": "code",
      "source": [
        "df[\"SUBLOCALITY\"] = df[\"SUBLOCALITY\"].replace({\"Manhattan\":\"New York County\",\"New York\":\"New York County\",\"Queens\":\"Queens County\",\"Brooklyn\":\"Kings County\",\"East Bronx\":\"Bronx County\",\"The Bronx\":\"Bronx County\",\"Coney Island\":\"Kings County\",\"Brooklyn Heights\":\"Kings County\",\"Staten Island\":\"Richmond County\",\"Jackson Heights\":\"Queens County\",\"Riverdale\":\"Bronx County\",\"Rego Park\":\"Queens County\",\"Fort Hamilton\":\"Kings County\",\"Flushing\":\"Queens County\",\"Dumbo\":\"Kings County\",\"Snyder Avenue\":\"Kings County\"})\n"
      ],
      "metadata": {
        "id": "ogNrTGSh9Z-2"
      },
      "execution_count": null,
      "outputs": []
    },
    {
      "cell_type": "code",
      "source": [
        "df\n"
      ],
      "metadata": {
        "colab": {
          "base_uri": "https://localhost:8080/",
          "height": 424
        },
        "id": "gbSp6EIC-iA5",
        "outputId": "91c7f4f8-83ad-445c-e8b8-1b84a5a3e58f"
      },
      "execution_count": null,
      "outputs": [
        {
          "output_type": "execute_result",
          "data": {
            "text/plain": [
              "                                            BROKERTITLE                TYPE  \\\n",
              "0           Brokered by Douglas Elliman  -111 Fifth Ave      Condo for sale   \n",
              "1                                   Brokered by Serhant      Condo for sale   \n",
              "2                                Brokered by Sowae Corp      House for sale   \n",
              "3                                   Brokered by COMPASS      Condo for sale   \n",
              "4     Brokered by Sotheby's International Realty - E...  Townhouse for sale   \n",
              "...                                                 ...                 ...   \n",
              "4796                                Brokered by COMPASS      Co-op for sale   \n",
              "4797                    Brokered by Mjr Real Estate Llc      Co-op for sale   \n",
              "4798      Brokered by Douglas Elliman - 575 Madison Ave      Co-op for sale   \n",
              "4799            Brokered by E Realty International Corp      Condo for sale   \n",
              "4800                 Brokered by Nyc Realty Brokers Llc      Co-op for sale   \n",
              "\n",
              "          PRICE  BEDS       BATH  PROPERTYSQFT      SUBLOCALITY  \\\n",
              "0        315000     2   2.000000   1400.000000  New York County   \n",
              "1     195000000     7  10.000000  17545.000000  New York County   \n",
              "2        260000     4   2.000000   2015.000000  Richmond County   \n",
              "3         69000     3   1.000000    445.000000  New York County   \n",
              "4      55000000     7   2.373861  14175.000000  New York County   \n",
              "...         ...   ...        ...           ...              ...   \n",
              "4796     599000     1   1.000000   2184.207862  New York County   \n",
              "4797     245000     1   1.000000   2184.207862    Queens County   \n",
              "4798    1275000     1   1.000000   2184.207862  New York County   \n",
              "4799     598125     2   1.000000    655.000000    Queens County   \n",
              "4800     349000     1   1.000000    750.000000     Kings County   \n",
              "\n",
              "                                      FORMATTED_ADDRESS  \n",
              "0     Regis Residence, 2 E 55th St #803, New York, N...  \n",
              "1                217 W 57th St, New York, NY 10019, USA  \n",
              "2        620 Sinclair Ave, Staten Island, NY 10312, USA  \n",
              "3                  2 E 55th St, New York, NY 10022, USA  \n",
              "4                  5 E 64th St, New York, NY 10065, USA  \n",
              "...                                                 ...  \n",
              "4796         222 E 80th St #3a, New York, NY 10075, USA  \n",
              "4797            97-40 62nd Dr, Rego Park, NY 11374, USA  \n",
              "4798             427 W 21st St, New York, NY 10011, USA  \n",
              "4799     91-23 Corona Ave. #4b, Flushing, NY 11373, USA  \n",
              "4800      460 Neptune Ave #14a, Brooklyn, NY 11224, USA  \n",
              "\n",
              "[4801 rows x 8 columns]"
            ],
            "text/html": [
              "\n",
              "  <div id=\"df-63d086a3-3b17-489e-a6bb-4d9776b6952e\" class=\"colab-df-container\">\n",
              "    <div>\n",
              "<style scoped>\n",
              "    .dataframe tbody tr th:only-of-type {\n",
              "        vertical-align: middle;\n",
              "    }\n",
              "\n",
              "    .dataframe tbody tr th {\n",
              "        vertical-align: top;\n",
              "    }\n",
              "\n",
              "    .dataframe thead th {\n",
              "        text-align: right;\n",
              "    }\n",
              "</style>\n",
              "<table border=\"1\" class=\"dataframe\">\n",
              "  <thead>\n",
              "    <tr style=\"text-align: right;\">\n",
              "      <th></th>\n",
              "      <th>BROKERTITLE</th>\n",
              "      <th>TYPE</th>\n",
              "      <th>PRICE</th>\n",
              "      <th>BEDS</th>\n",
              "      <th>BATH</th>\n",
              "      <th>PROPERTYSQFT</th>\n",
              "      <th>SUBLOCALITY</th>\n",
              "      <th>FORMATTED_ADDRESS</th>\n",
              "    </tr>\n",
              "  </thead>\n",
              "  <tbody>\n",
              "    <tr>\n",
              "      <th>0</th>\n",
              "      <td>Brokered by Douglas Elliman  -111 Fifth Ave</td>\n",
              "      <td>Condo for sale</td>\n",
              "      <td>315000</td>\n",
              "      <td>2</td>\n",
              "      <td>2.000000</td>\n",
              "      <td>1400.000000</td>\n",
              "      <td>New York County</td>\n",
              "      <td>Regis Residence, 2 E 55th St #803, New York, N...</td>\n",
              "    </tr>\n",
              "    <tr>\n",
              "      <th>1</th>\n",
              "      <td>Brokered by Serhant</td>\n",
              "      <td>Condo for sale</td>\n",
              "      <td>195000000</td>\n",
              "      <td>7</td>\n",
              "      <td>10.000000</td>\n",
              "      <td>17545.000000</td>\n",
              "      <td>New York County</td>\n",
              "      <td>217 W 57th St, New York, NY 10019, USA</td>\n",
              "    </tr>\n",
              "    <tr>\n",
              "      <th>2</th>\n",
              "      <td>Brokered by Sowae Corp</td>\n",
              "      <td>House for sale</td>\n",
              "      <td>260000</td>\n",
              "      <td>4</td>\n",
              "      <td>2.000000</td>\n",
              "      <td>2015.000000</td>\n",
              "      <td>Richmond County</td>\n",
              "      <td>620 Sinclair Ave, Staten Island, NY 10312, USA</td>\n",
              "    </tr>\n",
              "    <tr>\n",
              "      <th>3</th>\n",
              "      <td>Brokered by COMPASS</td>\n",
              "      <td>Condo for sale</td>\n",
              "      <td>69000</td>\n",
              "      <td>3</td>\n",
              "      <td>1.000000</td>\n",
              "      <td>445.000000</td>\n",
              "      <td>New York County</td>\n",
              "      <td>2 E 55th St, New York, NY 10022, USA</td>\n",
              "    </tr>\n",
              "    <tr>\n",
              "      <th>4</th>\n",
              "      <td>Brokered by Sotheby's International Realty - E...</td>\n",
              "      <td>Townhouse for sale</td>\n",
              "      <td>55000000</td>\n",
              "      <td>7</td>\n",
              "      <td>2.373861</td>\n",
              "      <td>14175.000000</td>\n",
              "      <td>New York County</td>\n",
              "      <td>5 E 64th St, New York, NY 10065, USA</td>\n",
              "    </tr>\n",
              "    <tr>\n",
              "      <th>...</th>\n",
              "      <td>...</td>\n",
              "      <td>...</td>\n",
              "      <td>...</td>\n",
              "      <td>...</td>\n",
              "      <td>...</td>\n",
              "      <td>...</td>\n",
              "      <td>...</td>\n",
              "      <td>...</td>\n",
              "    </tr>\n",
              "    <tr>\n",
              "      <th>4796</th>\n",
              "      <td>Brokered by COMPASS</td>\n",
              "      <td>Co-op for sale</td>\n",
              "      <td>599000</td>\n",
              "      <td>1</td>\n",
              "      <td>1.000000</td>\n",
              "      <td>2184.207862</td>\n",
              "      <td>New York County</td>\n",
              "      <td>222 E 80th St #3a, New York, NY 10075, USA</td>\n",
              "    </tr>\n",
              "    <tr>\n",
              "      <th>4797</th>\n",
              "      <td>Brokered by Mjr Real Estate Llc</td>\n",
              "      <td>Co-op for sale</td>\n",
              "      <td>245000</td>\n",
              "      <td>1</td>\n",
              "      <td>1.000000</td>\n",
              "      <td>2184.207862</td>\n",
              "      <td>Queens County</td>\n",
              "      <td>97-40 62nd Dr, Rego Park, NY 11374, USA</td>\n",
              "    </tr>\n",
              "    <tr>\n",
              "      <th>4798</th>\n",
              "      <td>Brokered by Douglas Elliman - 575 Madison Ave</td>\n",
              "      <td>Co-op for sale</td>\n",
              "      <td>1275000</td>\n",
              "      <td>1</td>\n",
              "      <td>1.000000</td>\n",
              "      <td>2184.207862</td>\n",
              "      <td>New York County</td>\n",
              "      <td>427 W 21st St, New York, NY 10011, USA</td>\n",
              "    </tr>\n",
              "    <tr>\n",
              "      <th>4799</th>\n",
              "      <td>Brokered by E Realty International Corp</td>\n",
              "      <td>Condo for sale</td>\n",
              "      <td>598125</td>\n",
              "      <td>2</td>\n",
              "      <td>1.000000</td>\n",
              "      <td>655.000000</td>\n",
              "      <td>Queens County</td>\n",
              "      <td>91-23 Corona Ave. #4b, Flushing, NY 11373, USA</td>\n",
              "    </tr>\n",
              "    <tr>\n",
              "      <th>4800</th>\n",
              "      <td>Brokered by Nyc Realty Brokers Llc</td>\n",
              "      <td>Co-op for sale</td>\n",
              "      <td>349000</td>\n",
              "      <td>1</td>\n",
              "      <td>1.000000</td>\n",
              "      <td>750.000000</td>\n",
              "      <td>Kings County</td>\n",
              "      <td>460 Neptune Ave #14a, Brooklyn, NY 11224, USA</td>\n",
              "    </tr>\n",
              "  </tbody>\n",
              "</table>\n",
              "<p>4801 rows × 8 columns</p>\n",
              "</div>\n",
              "    <div class=\"colab-df-buttons\">\n",
              "\n",
              "  <div class=\"colab-df-container\">\n",
              "    <button class=\"colab-df-convert\" onclick=\"convertToInteractive('df-63d086a3-3b17-489e-a6bb-4d9776b6952e')\"\n",
              "            title=\"Convert this dataframe to an interactive table.\"\n",
              "            style=\"display:none;\">\n",
              "\n",
              "  <svg xmlns=\"http://www.w3.org/2000/svg\" height=\"24px\" viewBox=\"0 -960 960 960\">\n",
              "    <path d=\"M120-120v-720h720v720H120Zm60-500h600v-160H180v160Zm220 220h160v-160H400v160Zm0 220h160v-160H400v160ZM180-400h160v-160H180v160Zm440 0h160v-160H620v160ZM180-180h160v-160H180v160Zm440 0h160v-160H620v160Z\"/>\n",
              "  </svg>\n",
              "    </button>\n",
              "\n",
              "  <style>\n",
              "    .colab-df-container {\n",
              "      display:flex;\n",
              "      gap: 12px;\n",
              "    }\n",
              "\n",
              "    .colab-df-convert {\n",
              "      background-color: #E8F0FE;\n",
              "      border: none;\n",
              "      border-radius: 50%;\n",
              "      cursor: pointer;\n",
              "      display: none;\n",
              "      fill: #1967D2;\n",
              "      height: 32px;\n",
              "      padding: 0 0 0 0;\n",
              "      width: 32px;\n",
              "    }\n",
              "\n",
              "    .colab-df-convert:hover {\n",
              "      background-color: #E2EBFA;\n",
              "      box-shadow: 0px 1px 2px rgba(60, 64, 67, 0.3), 0px 1px 3px 1px rgba(60, 64, 67, 0.15);\n",
              "      fill: #174EA6;\n",
              "    }\n",
              "\n",
              "    .colab-df-buttons div {\n",
              "      margin-bottom: 4px;\n",
              "    }\n",
              "\n",
              "    [theme=dark] .colab-df-convert {\n",
              "      background-color: #3B4455;\n",
              "      fill: #D2E3FC;\n",
              "    }\n",
              "\n",
              "    [theme=dark] .colab-df-convert:hover {\n",
              "      background-color: #434B5C;\n",
              "      box-shadow: 0px 1px 3px 1px rgba(0, 0, 0, 0.15);\n",
              "      filter: drop-shadow(0px 1px 2px rgba(0, 0, 0, 0.3));\n",
              "      fill: #FFFFFF;\n",
              "    }\n",
              "  </style>\n",
              "\n",
              "    <script>\n",
              "      const buttonEl =\n",
              "        document.querySelector('#df-63d086a3-3b17-489e-a6bb-4d9776b6952e button.colab-df-convert');\n",
              "      buttonEl.style.display =\n",
              "        google.colab.kernel.accessAllowed ? 'block' : 'none';\n",
              "\n",
              "      async function convertToInteractive(key) {\n",
              "        const element = document.querySelector('#df-63d086a3-3b17-489e-a6bb-4d9776b6952e');\n",
              "        const dataTable =\n",
              "          await google.colab.kernel.invokeFunction('convertToInteractive',\n",
              "                                                    [key], {});\n",
              "        if (!dataTable) return;\n",
              "\n",
              "        const docLinkHtml = 'Like what you see? Visit the ' +\n",
              "          '<a target=\"_blank\" href=https://colab.research.google.com/notebooks/data_table.ipynb>data table notebook</a>'\n",
              "          + ' to learn more about interactive tables.';\n",
              "        element.innerHTML = '';\n",
              "        dataTable['output_type'] = 'display_data';\n",
              "        await google.colab.output.renderOutput(dataTable, element);\n",
              "        const docLink = document.createElement('div');\n",
              "        docLink.innerHTML = docLinkHtml;\n",
              "        element.appendChild(docLink);\n",
              "      }\n",
              "    </script>\n",
              "  </div>\n",
              "\n",
              "\n",
              "<div id=\"df-5cda80de-48ce-4b42-b07c-0829b5bd2d0d\">\n",
              "  <button class=\"colab-df-quickchart\" onclick=\"quickchart('df-5cda80de-48ce-4b42-b07c-0829b5bd2d0d')\"\n",
              "            title=\"Suggest charts\"\n",
              "            style=\"display:none;\">\n",
              "\n",
              "<svg xmlns=\"http://www.w3.org/2000/svg\" height=\"24px\"viewBox=\"0 0 24 24\"\n",
              "     width=\"24px\">\n",
              "    <g>\n",
              "        <path d=\"M19 3H5c-1.1 0-2 .9-2 2v14c0 1.1.9 2 2 2h14c1.1 0 2-.9 2-2V5c0-1.1-.9-2-2-2zM9 17H7v-7h2v7zm4 0h-2V7h2v10zm4 0h-2v-4h2v4z\"/>\n",
              "    </g>\n",
              "</svg>\n",
              "  </button>\n",
              "\n",
              "<style>\n",
              "  .colab-df-quickchart {\n",
              "      --bg-color: #E8F0FE;\n",
              "      --fill-color: #1967D2;\n",
              "      --hover-bg-color: #E2EBFA;\n",
              "      --hover-fill-color: #174EA6;\n",
              "      --disabled-fill-color: #AAA;\n",
              "      --disabled-bg-color: #DDD;\n",
              "  }\n",
              "\n",
              "  [theme=dark] .colab-df-quickchart {\n",
              "      --bg-color: #3B4455;\n",
              "      --fill-color: #D2E3FC;\n",
              "      --hover-bg-color: #434B5C;\n",
              "      --hover-fill-color: #FFFFFF;\n",
              "      --disabled-bg-color: #3B4455;\n",
              "      --disabled-fill-color: #666;\n",
              "  }\n",
              "\n",
              "  .colab-df-quickchart {\n",
              "    background-color: var(--bg-color);\n",
              "    border: none;\n",
              "    border-radius: 50%;\n",
              "    cursor: pointer;\n",
              "    display: none;\n",
              "    fill: var(--fill-color);\n",
              "    height: 32px;\n",
              "    padding: 0;\n",
              "    width: 32px;\n",
              "  }\n",
              "\n",
              "  .colab-df-quickchart:hover {\n",
              "    background-color: var(--hover-bg-color);\n",
              "    box-shadow: 0 1px 2px rgba(60, 64, 67, 0.3), 0 1px 3px 1px rgba(60, 64, 67, 0.15);\n",
              "    fill: var(--button-hover-fill-color);\n",
              "  }\n",
              "\n",
              "  .colab-df-quickchart-complete:disabled,\n",
              "  .colab-df-quickchart-complete:disabled:hover {\n",
              "    background-color: var(--disabled-bg-color);\n",
              "    fill: var(--disabled-fill-color);\n",
              "    box-shadow: none;\n",
              "  }\n",
              "\n",
              "  .colab-df-spinner {\n",
              "    border: 2px solid var(--fill-color);\n",
              "    border-color: transparent;\n",
              "    border-bottom-color: var(--fill-color);\n",
              "    animation:\n",
              "      spin 1s steps(1) infinite;\n",
              "  }\n",
              "\n",
              "  @keyframes spin {\n",
              "    0% {\n",
              "      border-color: transparent;\n",
              "      border-bottom-color: var(--fill-color);\n",
              "      border-left-color: var(--fill-color);\n",
              "    }\n",
              "    20% {\n",
              "      border-color: transparent;\n",
              "      border-left-color: var(--fill-color);\n",
              "      border-top-color: var(--fill-color);\n",
              "    }\n",
              "    30% {\n",
              "      border-color: transparent;\n",
              "      border-left-color: var(--fill-color);\n",
              "      border-top-color: var(--fill-color);\n",
              "      border-right-color: var(--fill-color);\n",
              "    }\n",
              "    40% {\n",
              "      border-color: transparent;\n",
              "      border-right-color: var(--fill-color);\n",
              "      border-top-color: var(--fill-color);\n",
              "    }\n",
              "    60% {\n",
              "      border-color: transparent;\n",
              "      border-right-color: var(--fill-color);\n",
              "    }\n",
              "    80% {\n",
              "      border-color: transparent;\n",
              "      border-right-color: var(--fill-color);\n",
              "      border-bottom-color: var(--fill-color);\n",
              "    }\n",
              "    90% {\n",
              "      border-color: transparent;\n",
              "      border-bottom-color: var(--fill-color);\n",
              "    }\n",
              "  }\n",
              "</style>\n",
              "\n",
              "  <script>\n",
              "    async function quickchart(key) {\n",
              "      const quickchartButtonEl =\n",
              "        document.querySelector('#' + key + ' button');\n",
              "      quickchartButtonEl.disabled = true;  // To prevent multiple clicks.\n",
              "      quickchartButtonEl.classList.add('colab-df-spinner');\n",
              "      try {\n",
              "        const charts = await google.colab.kernel.invokeFunction(\n",
              "            'suggestCharts', [key], {});\n",
              "      } catch (error) {\n",
              "        console.error('Error during call to suggestCharts:', error);\n",
              "      }\n",
              "      quickchartButtonEl.classList.remove('colab-df-spinner');\n",
              "      quickchartButtonEl.classList.add('colab-df-quickchart-complete');\n",
              "    }\n",
              "    (() => {\n",
              "      let quickchartButtonEl =\n",
              "        document.querySelector('#df-5cda80de-48ce-4b42-b07c-0829b5bd2d0d button');\n",
              "      quickchartButtonEl.style.display =\n",
              "        google.colab.kernel.accessAllowed ? 'block' : 'none';\n",
              "    })();\n",
              "  </script>\n",
              "</div>\n",
              "\n",
              "  <div id=\"id_061fd87a-f3cb-4729-8b41-4dd0b9f2b0c4\">\n",
              "    <style>\n",
              "      .colab-df-generate {\n",
              "        background-color: #E8F0FE;\n",
              "        border: none;\n",
              "        border-radius: 50%;\n",
              "        cursor: pointer;\n",
              "        display: none;\n",
              "        fill: #1967D2;\n",
              "        height: 32px;\n",
              "        padding: 0 0 0 0;\n",
              "        width: 32px;\n",
              "      }\n",
              "\n",
              "      .colab-df-generate:hover {\n",
              "        background-color: #E2EBFA;\n",
              "        box-shadow: 0px 1px 2px rgba(60, 64, 67, 0.3), 0px 1px 3px 1px rgba(60, 64, 67, 0.15);\n",
              "        fill: #174EA6;\n",
              "      }\n",
              "\n",
              "      [theme=dark] .colab-df-generate {\n",
              "        background-color: #3B4455;\n",
              "        fill: #D2E3FC;\n",
              "      }\n",
              "\n",
              "      [theme=dark] .colab-df-generate:hover {\n",
              "        background-color: #434B5C;\n",
              "        box-shadow: 0px 1px 3px 1px rgba(0, 0, 0, 0.15);\n",
              "        filter: drop-shadow(0px 1px 2px rgba(0, 0, 0, 0.3));\n",
              "        fill: #FFFFFF;\n",
              "      }\n",
              "    </style>\n",
              "    <button class=\"colab-df-generate\" onclick=\"generateWithVariable('df')\"\n",
              "            title=\"Generate code using this dataframe.\"\n",
              "            style=\"display:none;\">\n",
              "\n",
              "  <svg xmlns=\"http://www.w3.org/2000/svg\" height=\"24px\"viewBox=\"0 0 24 24\"\n",
              "       width=\"24px\">\n",
              "    <path d=\"M7,19H8.4L18.45,9,17,7.55,7,17.6ZM5,21V16.75L18.45,3.32a2,2,0,0,1,2.83,0l1.4,1.43a1.91,1.91,0,0,1,.58,1.4,1.91,1.91,0,0,1-.58,1.4L9.25,21ZM18.45,9,17,7.55Zm-12,3A5.31,5.31,0,0,0,4.9,8.1,5.31,5.31,0,0,0,1,6.5,5.31,5.31,0,0,0,4.9,4.9,5.31,5.31,0,0,0,6.5,1,5.31,5.31,0,0,0,8.1,4.9,5.31,5.31,0,0,0,12,6.5,5.46,5.46,0,0,0,6.5,12Z\"/>\n",
              "  </svg>\n",
              "    </button>\n",
              "    <script>\n",
              "      (() => {\n",
              "      const buttonEl =\n",
              "        document.querySelector('#id_061fd87a-f3cb-4729-8b41-4dd0b9f2b0c4 button.colab-df-generate');\n",
              "      buttonEl.style.display =\n",
              "        google.colab.kernel.accessAllowed ? 'block' : 'none';\n",
              "\n",
              "      buttonEl.onclick = () => {\n",
              "        google.colab.notebook.generateWithVariable('df');\n",
              "      }\n",
              "      })();\n",
              "    </script>\n",
              "  </div>\n",
              "\n",
              "    </div>\n",
              "  </div>\n"
            ],
            "application/vnd.google.colaboratory.intrinsic+json": {
              "type": "dataframe",
              "variable_name": "df",
              "summary": "{\n  \"name\": \"df\",\n  \"rows\": 4801,\n  \"fields\": [\n    {\n      \"column\": \"BROKERTITLE\",\n      \"properties\": {\n        \"dtype\": \"category\",\n        \"num_unique_values\": 1036,\n        \"samples\": [\n          \"Brokered by LINCOLN V WALTERS II REALTY CORP\",\n          \"Brokered by East Coast REALTORS Inc\",\n          \"Brokered by Welhome Realty Inc\"\n        ],\n        \"semantic_type\": \"\",\n        \"description\": \"\"\n      }\n    },\n    {\n      \"column\": \"TYPE\",\n      \"properties\": {\n        \"dtype\": \"category\",\n        \"num_unique_values\": 13,\n        \"samples\": [\n          \"Mobile house for sale\",\n          \"Pending\",\n          \"Condo for sale\"\n        ],\n        \"semantic_type\": \"\",\n        \"description\": \"\"\n      }\n    },\n    {\n      \"column\": \"PRICE\",\n      \"properties\": {\n        \"dtype\": \"number\",\n        \"std\": 31355246,\n        \"min\": 2494,\n        \"max\": 2147483647,\n        \"num_unique_values\": 1274,\n        \"samples\": [\n          49500,\n          755000,\n          699998\n        ],\n        \"semantic_type\": \"\",\n        \"description\": \"\"\n      }\n    },\n    {\n      \"column\": \"BEDS\",\n      \"properties\": {\n        \"dtype\": \"number\",\n        \"std\": 2,\n        \"min\": 1,\n        \"max\": 50,\n        \"num_unique_values\": 27,\n        \"samples\": [\n          12,\n          14,\n          10\n        ],\n        \"semantic_type\": \"\",\n        \"description\": \"\"\n      }\n    },\n    {\n      \"column\": \"BATH\",\n      \"properties\": {\n        \"dtype\": \"number\",\n        \"std\": 1.9469616305978465,\n        \"min\": 0.0,\n        \"max\": 50.0,\n        \"num_unique_values\": 22,\n        \"samples\": [\n          2.0,\n          13.0,\n          8.0\n        ],\n        \"semantic_type\": \"\",\n        \"description\": \"\"\n      }\n    },\n    {\n      \"column\": \"PROPERTYSQFT\",\n      \"properties\": {\n        \"dtype\": \"number\",\n        \"std\": 2377.140893559752,\n        \"min\": 230.0,\n        \"max\": 65535.0,\n        \"num_unique_values\": 1445,\n        \"samples\": [\n          2472.0,\n          1445.0,\n          1868.0\n        ],\n        \"semantic_type\": \"\",\n        \"description\": \"\"\n      }\n    },\n    {\n      \"column\": \"SUBLOCALITY\",\n      \"properties\": {\n        \"dtype\": \"category\",\n        \"num_unique_values\": 5,\n        \"samples\": [\n          \"Richmond County\",\n          \"Queens County\",\n          \"Kings County\"\n        ],\n        \"semantic_type\": \"\",\n        \"description\": \"\"\n      }\n    },\n    {\n      \"column\": \"FORMATTED_ADDRESS\",\n      \"properties\": {\n        \"dtype\": \"string\",\n        \"num_unique_values\": 4550,\n        \"samples\": [\n          \"4410 Cayuga Ave Bsmt B3, Bronx, NY 10471, USA\",\n          \"270-10 Grand Central Pkwy #25k, Little Neck, NY 11362, USA\",\n          \"165 Cromwell Ave #2b, Staten Island, NY 10304, USA\"\n        ],\n        \"semantic_type\": \"\",\n        \"description\": \"\"\n      }\n    }\n  ]\n}"
            }
          },
          "metadata": {},
          "execution_count": 46
        }
      ]
    },
    {
      "cell_type": "code",
      "source": [
        "df.columns = ['BROKERTITLE', 'TYPE', 'PRICE', 'BEDS', 'BATH', 'PROPERTYSQFT',\n",
        "       'SUBLOCALITY', 'ADDRESS']"
      ],
      "metadata": {
        "id": "tx-QYymvorPe"
      },
      "execution_count": null,
      "outputs": []
    },
    {
      "cell_type": "code",
      "source": [
        "df"
      ],
      "metadata": {
        "colab": {
          "base_uri": "https://localhost:8080/",
          "height": 424
        },
        "id": "0Kt3GMMbA7bp",
        "outputId": "8b0e2ab8-58b5-485e-aa0e-6ae6eeec04d2"
      },
      "execution_count": null,
      "outputs": [
        {
          "output_type": "execute_result",
          "data": {
            "text/plain": [
              "                                            BROKERTITLE                TYPE  \\\n",
              "0           Brokered by Douglas Elliman  -111 Fifth Ave      Condo for sale   \n",
              "1                                   Brokered by Serhant      Condo for sale   \n",
              "2                                Brokered by Sowae Corp      House for sale   \n",
              "3                                   Brokered by COMPASS      Condo for sale   \n",
              "4     Brokered by Sotheby's International Realty - E...  Townhouse for sale   \n",
              "...                                                 ...                 ...   \n",
              "4796                                Brokered by COMPASS      Co-op for sale   \n",
              "4797                    Brokered by Mjr Real Estate Llc      Co-op for sale   \n",
              "4798      Brokered by Douglas Elliman - 575 Madison Ave      Co-op for sale   \n",
              "4799            Brokered by E Realty International Corp      Condo for sale   \n",
              "4800                 Brokered by Nyc Realty Brokers Llc      Co-op for sale   \n",
              "\n",
              "          PRICE  BEDS       BATH  PROPERTYSQFT      SUBLOCALITY  \\\n",
              "0        315000     2   2.000000   1400.000000  New York County   \n",
              "1     195000000     7  10.000000  17545.000000  New York County   \n",
              "2        260000     4   2.000000   2015.000000  Richmond County   \n",
              "3         69000     3   1.000000    445.000000  New York County   \n",
              "4      55000000     7   2.373861  14175.000000  New York County   \n",
              "...         ...   ...        ...           ...              ...   \n",
              "4796     599000     1   1.000000   2184.207862  New York County   \n",
              "4797     245000     1   1.000000   2184.207862    Queens County   \n",
              "4798    1275000     1   1.000000   2184.207862  New York County   \n",
              "4799     598125     2   1.000000    655.000000    Queens County   \n",
              "4800     349000     1   1.000000    750.000000     Kings County   \n",
              "\n",
              "                                                ADDRESS  \n",
              "0     Regis Residence, 2 E 55th St #803, New York, N...  \n",
              "1                217 W 57th St, New York, NY 10019, USA  \n",
              "2        620 Sinclair Ave, Staten Island, NY 10312, USA  \n",
              "3                  2 E 55th St, New York, NY 10022, USA  \n",
              "4                  5 E 64th St, New York, NY 10065, USA  \n",
              "...                                                 ...  \n",
              "4796         222 E 80th St #3a, New York, NY 10075, USA  \n",
              "4797            97-40 62nd Dr, Rego Park, NY 11374, USA  \n",
              "4798             427 W 21st St, New York, NY 10011, USA  \n",
              "4799     91-23 Corona Ave. #4b, Flushing, NY 11373, USA  \n",
              "4800      460 Neptune Ave #14a, Brooklyn, NY 11224, USA  \n",
              "\n",
              "[4801 rows x 8 columns]"
            ],
            "text/html": [
              "\n",
              "  <div id=\"df-3f382553-c7f9-42f7-ae82-ac5368444c60\" class=\"colab-df-container\">\n",
              "    <div>\n",
              "<style scoped>\n",
              "    .dataframe tbody tr th:only-of-type {\n",
              "        vertical-align: middle;\n",
              "    }\n",
              "\n",
              "    .dataframe tbody tr th {\n",
              "        vertical-align: top;\n",
              "    }\n",
              "\n",
              "    .dataframe thead th {\n",
              "        text-align: right;\n",
              "    }\n",
              "</style>\n",
              "<table border=\"1\" class=\"dataframe\">\n",
              "  <thead>\n",
              "    <tr style=\"text-align: right;\">\n",
              "      <th></th>\n",
              "      <th>BROKERTITLE</th>\n",
              "      <th>TYPE</th>\n",
              "      <th>PRICE</th>\n",
              "      <th>BEDS</th>\n",
              "      <th>BATH</th>\n",
              "      <th>PROPERTYSQFT</th>\n",
              "      <th>SUBLOCALITY</th>\n",
              "      <th>ADDRESS</th>\n",
              "    </tr>\n",
              "  </thead>\n",
              "  <tbody>\n",
              "    <tr>\n",
              "      <th>0</th>\n",
              "      <td>Brokered by Douglas Elliman  -111 Fifth Ave</td>\n",
              "      <td>Condo for sale</td>\n",
              "      <td>315000</td>\n",
              "      <td>2</td>\n",
              "      <td>2.000000</td>\n",
              "      <td>1400.000000</td>\n",
              "      <td>New York County</td>\n",
              "      <td>Regis Residence, 2 E 55th St #803, New York, N...</td>\n",
              "    </tr>\n",
              "    <tr>\n",
              "      <th>1</th>\n",
              "      <td>Brokered by Serhant</td>\n",
              "      <td>Condo for sale</td>\n",
              "      <td>195000000</td>\n",
              "      <td>7</td>\n",
              "      <td>10.000000</td>\n",
              "      <td>17545.000000</td>\n",
              "      <td>New York County</td>\n",
              "      <td>217 W 57th St, New York, NY 10019, USA</td>\n",
              "    </tr>\n",
              "    <tr>\n",
              "      <th>2</th>\n",
              "      <td>Brokered by Sowae Corp</td>\n",
              "      <td>House for sale</td>\n",
              "      <td>260000</td>\n",
              "      <td>4</td>\n",
              "      <td>2.000000</td>\n",
              "      <td>2015.000000</td>\n",
              "      <td>Richmond County</td>\n",
              "      <td>620 Sinclair Ave, Staten Island, NY 10312, USA</td>\n",
              "    </tr>\n",
              "    <tr>\n",
              "      <th>3</th>\n",
              "      <td>Brokered by COMPASS</td>\n",
              "      <td>Condo for sale</td>\n",
              "      <td>69000</td>\n",
              "      <td>3</td>\n",
              "      <td>1.000000</td>\n",
              "      <td>445.000000</td>\n",
              "      <td>New York County</td>\n",
              "      <td>2 E 55th St, New York, NY 10022, USA</td>\n",
              "    </tr>\n",
              "    <tr>\n",
              "      <th>4</th>\n",
              "      <td>Brokered by Sotheby's International Realty - E...</td>\n",
              "      <td>Townhouse for sale</td>\n",
              "      <td>55000000</td>\n",
              "      <td>7</td>\n",
              "      <td>2.373861</td>\n",
              "      <td>14175.000000</td>\n",
              "      <td>New York County</td>\n",
              "      <td>5 E 64th St, New York, NY 10065, USA</td>\n",
              "    </tr>\n",
              "    <tr>\n",
              "      <th>...</th>\n",
              "      <td>...</td>\n",
              "      <td>...</td>\n",
              "      <td>...</td>\n",
              "      <td>...</td>\n",
              "      <td>...</td>\n",
              "      <td>...</td>\n",
              "      <td>...</td>\n",
              "      <td>...</td>\n",
              "    </tr>\n",
              "    <tr>\n",
              "      <th>4796</th>\n",
              "      <td>Brokered by COMPASS</td>\n",
              "      <td>Co-op for sale</td>\n",
              "      <td>599000</td>\n",
              "      <td>1</td>\n",
              "      <td>1.000000</td>\n",
              "      <td>2184.207862</td>\n",
              "      <td>New York County</td>\n",
              "      <td>222 E 80th St #3a, New York, NY 10075, USA</td>\n",
              "    </tr>\n",
              "    <tr>\n",
              "      <th>4797</th>\n",
              "      <td>Brokered by Mjr Real Estate Llc</td>\n",
              "      <td>Co-op for sale</td>\n",
              "      <td>245000</td>\n",
              "      <td>1</td>\n",
              "      <td>1.000000</td>\n",
              "      <td>2184.207862</td>\n",
              "      <td>Queens County</td>\n",
              "      <td>97-40 62nd Dr, Rego Park, NY 11374, USA</td>\n",
              "    </tr>\n",
              "    <tr>\n",
              "      <th>4798</th>\n",
              "      <td>Brokered by Douglas Elliman - 575 Madison Ave</td>\n",
              "      <td>Co-op for sale</td>\n",
              "      <td>1275000</td>\n",
              "      <td>1</td>\n",
              "      <td>1.000000</td>\n",
              "      <td>2184.207862</td>\n",
              "      <td>New York County</td>\n",
              "      <td>427 W 21st St, New York, NY 10011, USA</td>\n",
              "    </tr>\n",
              "    <tr>\n",
              "      <th>4799</th>\n",
              "      <td>Brokered by E Realty International Corp</td>\n",
              "      <td>Condo for sale</td>\n",
              "      <td>598125</td>\n",
              "      <td>2</td>\n",
              "      <td>1.000000</td>\n",
              "      <td>655.000000</td>\n",
              "      <td>Queens County</td>\n",
              "      <td>91-23 Corona Ave. #4b, Flushing, NY 11373, USA</td>\n",
              "    </tr>\n",
              "    <tr>\n",
              "      <th>4800</th>\n",
              "      <td>Brokered by Nyc Realty Brokers Llc</td>\n",
              "      <td>Co-op for sale</td>\n",
              "      <td>349000</td>\n",
              "      <td>1</td>\n",
              "      <td>1.000000</td>\n",
              "      <td>750.000000</td>\n",
              "      <td>Kings County</td>\n",
              "      <td>460 Neptune Ave #14a, Brooklyn, NY 11224, USA</td>\n",
              "    </tr>\n",
              "  </tbody>\n",
              "</table>\n",
              "<p>4801 rows × 8 columns</p>\n",
              "</div>\n",
              "    <div class=\"colab-df-buttons\">\n",
              "\n",
              "  <div class=\"colab-df-container\">\n",
              "    <button class=\"colab-df-convert\" onclick=\"convertToInteractive('df-3f382553-c7f9-42f7-ae82-ac5368444c60')\"\n",
              "            title=\"Convert this dataframe to an interactive table.\"\n",
              "            style=\"display:none;\">\n",
              "\n",
              "  <svg xmlns=\"http://www.w3.org/2000/svg\" height=\"24px\" viewBox=\"0 -960 960 960\">\n",
              "    <path d=\"M120-120v-720h720v720H120Zm60-500h600v-160H180v160Zm220 220h160v-160H400v160Zm0 220h160v-160H400v160ZM180-400h160v-160H180v160Zm440 0h160v-160H620v160ZM180-180h160v-160H180v160Zm440 0h160v-160H620v160Z\"/>\n",
              "  </svg>\n",
              "    </button>\n",
              "\n",
              "  <style>\n",
              "    .colab-df-container {\n",
              "      display:flex;\n",
              "      gap: 12px;\n",
              "    }\n",
              "\n",
              "    .colab-df-convert {\n",
              "      background-color: #E8F0FE;\n",
              "      border: none;\n",
              "      border-radius: 50%;\n",
              "      cursor: pointer;\n",
              "      display: none;\n",
              "      fill: #1967D2;\n",
              "      height: 32px;\n",
              "      padding: 0 0 0 0;\n",
              "      width: 32px;\n",
              "    }\n",
              "\n",
              "    .colab-df-convert:hover {\n",
              "      background-color: #E2EBFA;\n",
              "      box-shadow: 0px 1px 2px rgba(60, 64, 67, 0.3), 0px 1px 3px 1px rgba(60, 64, 67, 0.15);\n",
              "      fill: #174EA6;\n",
              "    }\n",
              "\n",
              "    .colab-df-buttons div {\n",
              "      margin-bottom: 4px;\n",
              "    }\n",
              "\n",
              "    [theme=dark] .colab-df-convert {\n",
              "      background-color: #3B4455;\n",
              "      fill: #D2E3FC;\n",
              "    }\n",
              "\n",
              "    [theme=dark] .colab-df-convert:hover {\n",
              "      background-color: #434B5C;\n",
              "      box-shadow: 0px 1px 3px 1px rgba(0, 0, 0, 0.15);\n",
              "      filter: drop-shadow(0px 1px 2px rgba(0, 0, 0, 0.3));\n",
              "      fill: #FFFFFF;\n",
              "    }\n",
              "  </style>\n",
              "\n",
              "    <script>\n",
              "      const buttonEl =\n",
              "        document.querySelector('#df-3f382553-c7f9-42f7-ae82-ac5368444c60 button.colab-df-convert');\n",
              "      buttonEl.style.display =\n",
              "        google.colab.kernel.accessAllowed ? 'block' : 'none';\n",
              "\n",
              "      async function convertToInteractive(key) {\n",
              "        const element = document.querySelector('#df-3f382553-c7f9-42f7-ae82-ac5368444c60');\n",
              "        const dataTable =\n",
              "          await google.colab.kernel.invokeFunction('convertToInteractive',\n",
              "                                                    [key], {});\n",
              "        if (!dataTable) return;\n",
              "\n",
              "        const docLinkHtml = 'Like what you see? Visit the ' +\n",
              "          '<a target=\"_blank\" href=https://colab.research.google.com/notebooks/data_table.ipynb>data table notebook</a>'\n",
              "          + ' to learn more about interactive tables.';\n",
              "        element.innerHTML = '';\n",
              "        dataTable['output_type'] = 'display_data';\n",
              "        await google.colab.output.renderOutput(dataTable, element);\n",
              "        const docLink = document.createElement('div');\n",
              "        docLink.innerHTML = docLinkHtml;\n",
              "        element.appendChild(docLink);\n",
              "      }\n",
              "    </script>\n",
              "  </div>\n",
              "\n",
              "\n",
              "<div id=\"df-4e107fa7-2d92-475b-a6a3-ee1dbd9b25b4\">\n",
              "  <button class=\"colab-df-quickchart\" onclick=\"quickchart('df-4e107fa7-2d92-475b-a6a3-ee1dbd9b25b4')\"\n",
              "            title=\"Suggest charts\"\n",
              "            style=\"display:none;\">\n",
              "\n",
              "<svg xmlns=\"http://www.w3.org/2000/svg\" height=\"24px\"viewBox=\"0 0 24 24\"\n",
              "     width=\"24px\">\n",
              "    <g>\n",
              "        <path d=\"M19 3H5c-1.1 0-2 .9-2 2v14c0 1.1.9 2 2 2h14c1.1 0 2-.9 2-2V5c0-1.1-.9-2-2-2zM9 17H7v-7h2v7zm4 0h-2V7h2v10zm4 0h-2v-4h2v4z\"/>\n",
              "    </g>\n",
              "</svg>\n",
              "  </button>\n",
              "\n",
              "<style>\n",
              "  .colab-df-quickchart {\n",
              "      --bg-color: #E8F0FE;\n",
              "      --fill-color: #1967D2;\n",
              "      --hover-bg-color: #E2EBFA;\n",
              "      --hover-fill-color: #174EA6;\n",
              "      --disabled-fill-color: #AAA;\n",
              "      --disabled-bg-color: #DDD;\n",
              "  }\n",
              "\n",
              "  [theme=dark] .colab-df-quickchart {\n",
              "      --bg-color: #3B4455;\n",
              "      --fill-color: #D2E3FC;\n",
              "      --hover-bg-color: #434B5C;\n",
              "      --hover-fill-color: #FFFFFF;\n",
              "      --disabled-bg-color: #3B4455;\n",
              "      --disabled-fill-color: #666;\n",
              "  }\n",
              "\n",
              "  .colab-df-quickchart {\n",
              "    background-color: var(--bg-color);\n",
              "    border: none;\n",
              "    border-radius: 50%;\n",
              "    cursor: pointer;\n",
              "    display: none;\n",
              "    fill: var(--fill-color);\n",
              "    height: 32px;\n",
              "    padding: 0;\n",
              "    width: 32px;\n",
              "  }\n",
              "\n",
              "  .colab-df-quickchart:hover {\n",
              "    background-color: var(--hover-bg-color);\n",
              "    box-shadow: 0 1px 2px rgba(60, 64, 67, 0.3), 0 1px 3px 1px rgba(60, 64, 67, 0.15);\n",
              "    fill: var(--button-hover-fill-color);\n",
              "  }\n",
              "\n",
              "  .colab-df-quickchart-complete:disabled,\n",
              "  .colab-df-quickchart-complete:disabled:hover {\n",
              "    background-color: var(--disabled-bg-color);\n",
              "    fill: var(--disabled-fill-color);\n",
              "    box-shadow: none;\n",
              "  }\n",
              "\n",
              "  .colab-df-spinner {\n",
              "    border: 2px solid var(--fill-color);\n",
              "    border-color: transparent;\n",
              "    border-bottom-color: var(--fill-color);\n",
              "    animation:\n",
              "      spin 1s steps(1) infinite;\n",
              "  }\n",
              "\n",
              "  @keyframes spin {\n",
              "    0% {\n",
              "      border-color: transparent;\n",
              "      border-bottom-color: var(--fill-color);\n",
              "      border-left-color: var(--fill-color);\n",
              "    }\n",
              "    20% {\n",
              "      border-color: transparent;\n",
              "      border-left-color: var(--fill-color);\n",
              "      border-top-color: var(--fill-color);\n",
              "    }\n",
              "    30% {\n",
              "      border-color: transparent;\n",
              "      border-left-color: var(--fill-color);\n",
              "      border-top-color: var(--fill-color);\n",
              "      border-right-color: var(--fill-color);\n",
              "    }\n",
              "    40% {\n",
              "      border-color: transparent;\n",
              "      border-right-color: var(--fill-color);\n",
              "      border-top-color: var(--fill-color);\n",
              "    }\n",
              "    60% {\n",
              "      border-color: transparent;\n",
              "      border-right-color: var(--fill-color);\n",
              "    }\n",
              "    80% {\n",
              "      border-color: transparent;\n",
              "      border-right-color: var(--fill-color);\n",
              "      border-bottom-color: var(--fill-color);\n",
              "    }\n",
              "    90% {\n",
              "      border-color: transparent;\n",
              "      border-bottom-color: var(--fill-color);\n",
              "    }\n",
              "  }\n",
              "</style>\n",
              "\n",
              "  <script>\n",
              "    async function quickchart(key) {\n",
              "      const quickchartButtonEl =\n",
              "        document.querySelector('#' + key + ' button');\n",
              "      quickchartButtonEl.disabled = true;  // To prevent multiple clicks.\n",
              "      quickchartButtonEl.classList.add('colab-df-spinner');\n",
              "      try {\n",
              "        const charts = await google.colab.kernel.invokeFunction(\n",
              "            'suggestCharts', [key], {});\n",
              "      } catch (error) {\n",
              "        console.error('Error during call to suggestCharts:', error);\n",
              "      }\n",
              "      quickchartButtonEl.classList.remove('colab-df-spinner');\n",
              "      quickchartButtonEl.classList.add('colab-df-quickchart-complete');\n",
              "    }\n",
              "    (() => {\n",
              "      let quickchartButtonEl =\n",
              "        document.querySelector('#df-4e107fa7-2d92-475b-a6a3-ee1dbd9b25b4 button');\n",
              "      quickchartButtonEl.style.display =\n",
              "        google.colab.kernel.accessAllowed ? 'block' : 'none';\n",
              "    })();\n",
              "  </script>\n",
              "</div>\n",
              "\n",
              "  <div id=\"id_c56bffb8-9b99-48aa-b61b-1043b40141a2\">\n",
              "    <style>\n",
              "      .colab-df-generate {\n",
              "        background-color: #E8F0FE;\n",
              "        border: none;\n",
              "        border-radius: 50%;\n",
              "        cursor: pointer;\n",
              "        display: none;\n",
              "        fill: #1967D2;\n",
              "        height: 32px;\n",
              "        padding: 0 0 0 0;\n",
              "        width: 32px;\n",
              "      }\n",
              "\n",
              "      .colab-df-generate:hover {\n",
              "        background-color: #E2EBFA;\n",
              "        box-shadow: 0px 1px 2px rgba(60, 64, 67, 0.3), 0px 1px 3px 1px rgba(60, 64, 67, 0.15);\n",
              "        fill: #174EA6;\n",
              "      }\n",
              "\n",
              "      [theme=dark] .colab-df-generate {\n",
              "        background-color: #3B4455;\n",
              "        fill: #D2E3FC;\n",
              "      }\n",
              "\n",
              "      [theme=dark] .colab-df-generate:hover {\n",
              "        background-color: #434B5C;\n",
              "        box-shadow: 0px 1px 3px 1px rgba(0, 0, 0, 0.15);\n",
              "        filter: drop-shadow(0px 1px 2px rgba(0, 0, 0, 0.3));\n",
              "        fill: #FFFFFF;\n",
              "      }\n",
              "    </style>\n",
              "    <button class=\"colab-df-generate\" onclick=\"generateWithVariable('df')\"\n",
              "            title=\"Generate code using this dataframe.\"\n",
              "            style=\"display:none;\">\n",
              "\n",
              "  <svg xmlns=\"http://www.w3.org/2000/svg\" height=\"24px\"viewBox=\"0 0 24 24\"\n",
              "       width=\"24px\">\n",
              "    <path d=\"M7,19H8.4L18.45,9,17,7.55,7,17.6ZM5,21V16.75L18.45,3.32a2,2,0,0,1,2.83,0l1.4,1.43a1.91,1.91,0,0,1,.58,1.4,1.91,1.91,0,0,1-.58,1.4L9.25,21ZM18.45,9,17,7.55Zm-12,3A5.31,5.31,0,0,0,4.9,8.1,5.31,5.31,0,0,0,1,6.5,5.31,5.31,0,0,0,4.9,4.9,5.31,5.31,0,0,0,6.5,1,5.31,5.31,0,0,0,8.1,4.9,5.31,5.31,0,0,0,12,6.5,5.46,5.46,0,0,0,6.5,12Z\"/>\n",
              "  </svg>\n",
              "    </button>\n",
              "    <script>\n",
              "      (() => {\n",
              "      const buttonEl =\n",
              "        document.querySelector('#id_c56bffb8-9b99-48aa-b61b-1043b40141a2 button.colab-df-generate');\n",
              "      buttonEl.style.display =\n",
              "        google.colab.kernel.accessAllowed ? 'block' : 'none';\n",
              "\n",
              "      buttonEl.onclick = () => {\n",
              "        google.colab.notebook.generateWithVariable('df');\n",
              "      }\n",
              "      })();\n",
              "    </script>\n",
              "  </div>\n",
              "\n",
              "    </div>\n",
              "  </div>\n"
            ],
            "application/vnd.google.colaboratory.intrinsic+json": {
              "type": "dataframe",
              "variable_name": "df",
              "summary": "{\n  \"name\": \"df\",\n  \"rows\": 4801,\n  \"fields\": [\n    {\n      \"column\": \"BROKERTITLE\",\n      \"properties\": {\n        \"dtype\": \"category\",\n        \"num_unique_values\": 1036,\n        \"samples\": [\n          \"Brokered by LINCOLN V WALTERS II REALTY CORP\",\n          \"Brokered by East Coast REALTORS Inc\",\n          \"Brokered by Welhome Realty Inc\"\n        ],\n        \"semantic_type\": \"\",\n        \"description\": \"\"\n      }\n    },\n    {\n      \"column\": \"TYPE\",\n      \"properties\": {\n        \"dtype\": \"category\",\n        \"num_unique_values\": 13,\n        \"samples\": [\n          \"Mobile house for sale\",\n          \"Pending\",\n          \"Condo for sale\"\n        ],\n        \"semantic_type\": \"\",\n        \"description\": \"\"\n      }\n    },\n    {\n      \"column\": \"PRICE\",\n      \"properties\": {\n        \"dtype\": \"number\",\n        \"std\": 31355246,\n        \"min\": 2494,\n        \"max\": 2147483647,\n        \"num_unique_values\": 1274,\n        \"samples\": [\n          49500,\n          755000,\n          699998\n        ],\n        \"semantic_type\": \"\",\n        \"description\": \"\"\n      }\n    },\n    {\n      \"column\": \"BEDS\",\n      \"properties\": {\n        \"dtype\": \"number\",\n        \"std\": 2,\n        \"min\": 1,\n        \"max\": 50,\n        \"num_unique_values\": 27,\n        \"samples\": [\n          12,\n          14,\n          10\n        ],\n        \"semantic_type\": \"\",\n        \"description\": \"\"\n      }\n    },\n    {\n      \"column\": \"BATH\",\n      \"properties\": {\n        \"dtype\": \"number\",\n        \"std\": 1.9469616305978465,\n        \"min\": 0.0,\n        \"max\": 50.0,\n        \"num_unique_values\": 22,\n        \"samples\": [\n          2.0,\n          13.0,\n          8.0\n        ],\n        \"semantic_type\": \"\",\n        \"description\": \"\"\n      }\n    },\n    {\n      \"column\": \"PROPERTYSQFT\",\n      \"properties\": {\n        \"dtype\": \"number\",\n        \"std\": 2377.140893559752,\n        \"min\": 230.0,\n        \"max\": 65535.0,\n        \"num_unique_values\": 1445,\n        \"samples\": [\n          2472.0,\n          1445.0,\n          1868.0\n        ],\n        \"semantic_type\": \"\",\n        \"description\": \"\"\n      }\n    },\n    {\n      \"column\": \"SUBLOCALITY\",\n      \"properties\": {\n        \"dtype\": \"category\",\n        \"num_unique_values\": 5,\n        \"samples\": [\n          \"Richmond County\",\n          \"Queens County\",\n          \"Kings County\"\n        ],\n        \"semantic_type\": \"\",\n        \"description\": \"\"\n      }\n    },\n    {\n      \"column\": \"ADDRESS\",\n      \"properties\": {\n        \"dtype\": \"string\",\n        \"num_unique_values\": 4550,\n        \"samples\": [\n          \"4410 Cayuga Ave Bsmt B3, Bronx, NY 10471, USA\",\n          \"270-10 Grand Central Pkwy #25k, Little Neck, NY 11362, USA\",\n          \"165 Cromwell Ave #2b, Staten Island, NY 10304, USA\"\n        ],\n        \"semantic_type\": \"\",\n        \"description\": \"\"\n      }\n    }\n  ]\n}"
            }
          },
          "metadata": {},
          "execution_count": 88
        }
      ]
    },
    {
      "cell_type": "code",
      "source": [
        "df.isnull().sum()"
      ],
      "metadata": {
        "colab": {
          "base_uri": "https://localhost:8080/"
        },
        "id": "kteAsbDt6cgB",
        "outputId": "41b2e90d-21c4-4137-adb1-201b086d1ec8"
      },
      "execution_count": null,
      "outputs": [
        {
          "output_type": "execute_result",
          "data": {
            "text/plain": [
              "BROKERTITLE     0\n",
              "TYPE            0\n",
              "PRICE           0\n",
              "BEDS            0\n",
              "BATH            0\n",
              "PROPERTYSQFT    0\n",
              "SUBLOCALITY     0\n",
              "ADDRESS         0\n",
              "dtype: int64"
            ]
          },
          "metadata": {},
          "execution_count": 89
        }
      ]
    },
    {
      "cell_type": "code",
      "source": [
        "df[\"SUBLOCALITY\"].unique()"
      ],
      "metadata": {
        "colab": {
          "base_uri": "https://localhost:8080/"
        },
        "id": "QZ5GiO187DnE",
        "outputId": "17b35446-9aa1-4727-8e5f-74fa812a4e91"
      },
      "execution_count": null,
      "outputs": [
        {
          "output_type": "execute_result",
          "data": {
            "text/plain": [
              "array(['New York County', 'Richmond County', 'Kings County',\n",
              "       'Bronx County', 'Queens County'], dtype=object)"
            ]
          },
          "metadata": {},
          "execution_count": 90
        }
      ]
    },
    {
      "cell_type": "code",
      "source": [
        "minimum_value = df[\"PRICE\"].min()\n",
        "print(f\"minimum value: {minimum_value}\")"
      ],
      "metadata": {
        "id": "VsEqbwU6o2od",
        "colab": {
          "base_uri": "https://localhost:8080/"
        },
        "outputId": "091da39b-7a9f-4d15-9dab-03e3b2428239"
      },
      "execution_count": null,
      "outputs": [
        {
          "output_type": "stream",
          "name": "stdout",
          "text": [
            "minimum value: 2494\n"
          ]
        }
      ]
    },
    {
      "cell_type": "code",
      "source": [
        "maximum_value = df[\"PRICE\"].max()\n",
        "print(f\"Maximum value: {maximum_value}\")"
      ],
      "metadata": {
        "colab": {
          "base_uri": "https://localhost:8080/"
        },
        "id": "z93OTZZHuxzU",
        "outputId": "8a9d4335-bc0c-4bb5-adf8-c0668d96c6a1"
      },
      "execution_count": null,
      "outputs": [
        {
          "output_type": "stream",
          "name": "stdout",
          "text": [
            "Maximum value: 2147483647\n"
          ]
        }
      ]
    },
    {
      "cell_type": "code",
      "source": [
        "range_value = maximum_value - minimum_value\n",
        "print(f\"Range value: {range_value}\")"
      ],
      "metadata": {
        "colab": {
          "base_uri": "https://localhost:8080/"
        },
        "id": "uMVmvo8KxW1Q",
        "outputId": "c897337e-e183-4a76-f1f1-d3d560a57b5f"
      },
      "execution_count": null,
      "outputs": [
        {
          "output_type": "stream",
          "name": "stdout",
          "text": [
            "Range value: 2147481153\n"
          ]
        }
      ]
    },
    {
      "cell_type": "code",
      "source": [
        "std_dev = df[\"PRICE\"].std()\n",
        "print(f\"Standard deviation in price: {std_dev}\")"
      ],
      "metadata": {
        "colab": {
          "base_uri": "https://localhost:8080/"
        },
        "id": "8cZoBa39xiho",
        "outputId": "14968b5d-85ae-4542-c982-816c161e420e"
      },
      "execution_count": null,
      "outputs": [
        {
          "output_type": "stream",
          "name": "stdout",
          "text": [
            "Standard deviation in price: 31355246.260352015\n"
          ]
        }
      ]
    },
    {
      "cell_type": "code",
      "source": [
        "std_dev = df[\"BEDS\"].std()\n",
        "print(f\"Standard deviation in beds: {std_dev}\")"
      ],
      "metadata": {
        "colab": {
          "base_uri": "https://localhost:8080/"
        },
        "id": "dwe7Besj1ueO",
        "outputId": "af7de1f9-0896-4f66-d991-89a18001c128"
      },
      "execution_count": null,
      "outputs": [
        {
          "output_type": "stream",
          "name": "stdout",
          "text": [
            "Standard deviation in beds: 2.602314693140107\n"
          ]
        }
      ]
    },
    {
      "cell_type": "code",
      "source": [
        "std_dev = df[\"BATH\"].std()\n",
        "print(f\"Standard deviation in bath: {std_dev}\")"
      ],
      "metadata": {
        "colab": {
          "base_uri": "https://localhost:8080/"
        },
        "id": "v4CR-q8t10jc",
        "outputId": "bab11379-b8e3-4fba-e76f-5ab98511a59e"
      },
      "execution_count": null,
      "outputs": [
        {
          "output_type": "stream",
          "name": "stdout",
          "text": [
            "Standard deviation in bath: 1.9469616305978465\n"
          ]
        }
      ]
    },
    {
      "cell_type": "code",
      "source": [
        "std_dev = df[\"PROPERTYSQFT\"].std()\n",
        "print(f\"Standard deviation in propertysqft: {std_dev}\")"
      ],
      "metadata": {
        "colab": {
          "base_uri": "https://localhost:8080/"
        },
        "id": "kkiA0mRa13sv",
        "outputId": "d5b1f013-5c20-4ebe-d203-755bf2afe332"
      },
      "execution_count": null,
      "outputs": [
        {
          "output_type": "stream",
          "name": "stdout",
          "text": [
            "Standard deviation in propertysqft: 2377.140893559752\n"
          ]
        }
      ]
    },
    {
      "cell_type": "code",
      "source": [
        "df[\"TYPE\"].unique()"
      ],
      "metadata": {
        "colab": {
          "base_uri": "https://localhost:8080/"
        },
        "id": "KbxIhOxRBAiX",
        "outputId": "631f4763-8aec-4e4f-b188-1e85c8ff41f2"
      },
      "execution_count": null,
      "outputs": [
        {
          "output_type": "execute_result",
          "data": {
            "text/plain": [
              "array(['Condo for sale', 'House for sale', 'Townhouse for sale',\n",
              "       'Co-op for sale', 'Multi-family home for sale', 'For sale',\n",
              "       'Contingent', 'Land for sale', 'Foreclosure', 'Pending',\n",
              "       'Coming Soon', 'Mobile house for sale', 'Condop for sale'],\n",
              "      dtype=object)"
            ]
          },
          "metadata": {},
          "execution_count": 58
        }
      ]
    },
    {
      "cell_type": "code",
      "source": [
        "type_distribution = df[\"TYPE\"].value_counts()\n",
        "print(type_distribution)"
      ],
      "metadata": {
        "colab": {
          "base_uri": "https://localhost:8080/"
        },
        "id": "lcPlJgKCBuAb",
        "outputId": "587b4ac1-ebb8-4a2e-b484-bb709a893737"
      },
      "execution_count": null,
      "outputs": [
        {
          "output_type": "stream",
          "name": "stdout",
          "text": [
            "TYPE\n",
            "Co-op for sale                1450\n",
            "House for sale                1012\n",
            "Condo for sale                 891\n",
            "Multi-family home for sale     727\n",
            "Townhouse for sale             299\n",
            "Pending                        243\n",
            "Contingent                      88\n",
            "Land for sale                   49\n",
            "For sale                        20\n",
            "Foreclosure                     14\n",
            "Condop for sale                  5\n",
            "Coming Soon                      2\n",
            "Mobile house for sale            1\n",
            "Name: count, dtype: int64\n"
          ]
        }
      ]
    },
    {
      "cell_type": "code",
      "source": [
        "type_sublocality_counts = df.groupby([\"TYPE\", \"SUBLOCALITY\"]).size()\n",
        "print(type_sublocality_counts)"
      ],
      "metadata": {
        "colab": {
          "base_uri": "https://localhost:8080/"
        },
        "id": "wWhljp3MFF0Z",
        "outputId": "a6bc1250-0d2d-442d-a3d7-6bea2c0509c3"
      },
      "execution_count": null,
      "outputs": [
        {
          "output_type": "stream",
          "name": "stdout",
          "text": [
            "TYPE                        SUBLOCALITY    \n",
            "Co-op for sale              Bronx County       163\n",
            "                            Kings County       230\n",
            "                            New York County    603\n",
            "                            Queens County      449\n",
            "                            Richmond County      5\n",
            "Coming Soon                 Kings County         2\n",
            "Condo for sale              Bronx County        40\n",
            "                            Kings County       228\n",
            "                            New York County    405\n",
            "                            Queens County      171\n",
            "                            Richmond County     47\n",
            "Condop for sale             New York County      5\n",
            "Contingent                  Kings County        11\n",
            "                            New York County     13\n",
            "                            Richmond County     64\n",
            "For sale                    Kings County         5\n",
            "                            New York County     15\n",
            "Foreclosure                 Bronx County         1\n",
            "                            Kings County         1\n",
            "                            New York County      2\n",
            "                            Queens County        2\n",
            "                            Richmond County      8\n",
            "House for sale              Bronx County       122\n",
            "                            Kings County       262\n",
            "                            New York County     64\n",
            "                            Queens County      306\n",
            "                            Richmond County    258\n",
            "Land for sale               Bronx County        11\n",
            "                            Kings County        16\n",
            "                            New York County      3\n",
            "                            Queens County       10\n",
            "                            Richmond County      9\n",
            "Mobile house for sale       Queens County        1\n",
            "Multi-family home for sale  Bronx County       134\n",
            "                            Kings County       263\n",
            "                            New York County     36\n",
            "                            Queens County      211\n",
            "                            Richmond County     83\n",
            "Pending                     Bronx County        13\n",
            "                            Kings County        76\n",
            "                            New York County     49\n",
            "                            Queens County       70\n",
            "                            Richmond County     35\n",
            "Townhouse for sale          Bronx County        12\n",
            "                            Kings County       104\n",
            "                            New York County    128\n",
            "                            Queens County       25\n",
            "                            Richmond County     30\n",
            "dtype: int64\n"
          ]
        }
      ]
    },
    {
      "cell_type": "code",
      "source": [
        "price_distribution = df[\"PRICE\"].value_counts()\n",
        "print(price_distribution)"
      ],
      "metadata": {
        "id": "8YyTbsl7L2cX",
        "outputId": "0aea0169-6302-4907-c09a-1d57e23d8aef",
        "colab": {
          "base_uri": "https://localhost:8080/"
        }
      },
      "execution_count": null,
      "outputs": [
        {
          "output_type": "stream",
          "name": "stdout",
          "text": [
            "PRICE\n",
            "699000     53\n",
            "799000     48\n",
            "599000     47\n",
            "499000     42\n",
            "1250000    42\n",
            "           ..\n",
            "2098000     1\n",
            "848724      1\n",
            "1153000     1\n",
            "2999990     1\n",
            "598125      1\n",
            "Name: count, Length: 1274, dtype: int64\n"
          ]
        }
      ]
    },
    {
      "cell_type": "code",
      "source": [
        "beds_distribution = df[\"BEDS\"].value_counts()\n",
        "print(beds_distribution)"
      ],
      "metadata": {
        "colab": {
          "base_uri": "https://localhost:8080/"
        },
        "id": "zRPms6Jco7-H",
        "outputId": "2013d594-1c88-4135-f0ba-f12837f3eb9f"
      },
      "execution_count": null,
      "outputs": [
        {
          "output_type": "stream",
          "name": "stdout",
          "text": [
            "BEDS\n",
            "3     1456\n",
            "2      995\n",
            "1      820\n",
            "4      570\n",
            "5      360\n",
            "6      271\n",
            "7      105\n",
            "8       84\n",
            "9       39\n",
            "12      23\n",
            "10      21\n",
            "11      20\n",
            "14       7\n",
            "15       5\n",
            "13       5\n",
            "16       4\n",
            "20       3\n",
            "24       3\n",
            "32       2\n",
            "35       1\n",
            "50       1\n",
            "36       1\n",
            "42       1\n",
            "40       1\n",
            "30       1\n",
            "19       1\n",
            "18       1\n",
            "Name: count, dtype: int64\n"
          ]
        }
      ]
    },
    {
      "cell_type": "code",
      "source": [
        "bath_distribution = df[\"BATH\"].value_counts()\n",
        "print(bath_distribution)"
      ],
      "metadata": {
        "colab": {
          "base_uri": "https://localhost:8080/"
        },
        "id": "F1a2wnirp0z4",
        "outputId": "778f2b60-0d1f-40ba-fcac-f614e98bb51a"
      },
      "execution_count": null,
      "outputs": [
        {
          "output_type": "stream",
          "name": "stdout",
          "text": [
            "BATH\n",
            "2.000000     1671\n",
            "1.000000     1521\n",
            "4.000000      484\n",
            "3.000000      467\n",
            "2.373861      302\n",
            "6.000000      142\n",
            "5.000000      100\n",
            "8.000000       45\n",
            "7.000000       24\n",
            "10.000000      16\n",
            "9.000000        7\n",
            "16.000000       5\n",
            "20.000000       3\n",
            "12.000000       3\n",
            "0.000000        3\n",
            "11.000000       2\n",
            "32.000000       1\n",
            "13.000000       1\n",
            "50.000000       1\n",
            "24.000000       1\n",
            "43.000000       1\n",
            "17.000000       1\n",
            "Name: count, dtype: int64\n"
          ]
        }
      ]
    },
    {
      "cell_type": "code",
      "source": [
        "property_sqft_distribution = df[\"PROPERTYSQFT\"].value_counts()\n",
        "print(property_sqft_distribution)"
      ],
      "metadata": {
        "colab": {
          "base_uri": "https://localhost:8080/"
        },
        "id": "h8mfkckCp-F1",
        "outputId": "fbc5ad4c-c82c-4f9c-b98c-b906b829b10f"
      },
      "execution_count": null,
      "outputs": [
        {
          "output_type": "stream",
          "name": "stdout",
          "text": [
            "PROPERTYSQFT\n",
            "2184.207862     1621\n",
            "800.000000        57\n",
            "900.000000        53\n",
            "750.000000        53\n",
            "1200.000000       50\n",
            "                ... \n",
            "1215.000000        1\n",
            "4080.000000        1\n",
            "21000.000000       1\n",
            "2652.000000        1\n",
            "655.000000         1\n",
            "Name: count, Length: 1445, dtype: int64\n"
          ]
        }
      ]
    },
    {
      "cell_type": "code",
      "source": [
        "sublocality_distribution = df[\"SUBLOCALITY\"].value_counts()\n",
        "print(sublocality_distribution)"
      ],
      "metadata": {
        "colab": {
          "base_uri": "https://localhost:8080/"
        },
        "id": "DSDOAL2RqFbq",
        "outputId": "b040afbb-9132-419f-bc83-a8fdf560d3a6"
      },
      "execution_count": null,
      "outputs": [
        {
          "output_type": "stream",
          "name": "stdout",
          "text": [
            "SUBLOCALITY\n",
            "New York County    1323\n",
            "Queens County      1245\n",
            "Kings County       1198\n",
            "Richmond County     539\n",
            "Bronx County        496\n",
            "Name: count, dtype: int64\n"
          ]
        }
      ]
    },
    {
      "cell_type": "code",
      "source": [
        "#Outliers calculation\n",
        "mean_price = df[\"PRICE\"].mean()\n",
        "std_dev = df[\"PRICE\"].std()\n",
        "print(f\"Mean in price: {mean_price}\")\n",
        "print(f\"Standard deviation in price: {std_dev}\")"
      ],
      "metadata": {
        "colab": {
          "base_uri": "https://localhost:8080/"
        },
        "id": "Y86nzdftiN5U",
        "outputId": "7b912ccc-33c6-4240-acea-c6355a5044e4"
      },
      "execution_count": null,
      "outputs": [
        {
          "output_type": "stream",
          "name": "stdout",
          "text": [
            "Mean in price: 2356940.17100604\n",
            "Standard deviation in price: 31355246.260352015\n"
          ]
        }
      ]
    },
    {
      "cell_type": "code",
      "source": [
        "#Outliers calculation\n",
        "Q1 = df[\"PRICE\"].quantile(0.25)\n",
        "Q3 = df[\"PRICE\"].quantile(0.75)\n",
        "print(f\"Q1 in price: {Q1}\")\n",
        "print(f\"Q3 in price: {Q3}\")"
      ],
      "metadata": {
        "colab": {
          "base_uri": "https://localhost:8080/"
        },
        "id": "eEoLGExpi7bM",
        "outputId": "c2e31261-b430-4c2a-aecb-dce98e8331f0"
      },
      "execution_count": null,
      "outputs": [
        {
          "output_type": "stream",
          "name": "stdout",
          "text": [
            "Q1 in price: 499000.0\n",
            "Q3 in price: 1495000.0\n"
          ]
        }
      ]
    },
    {
      "cell_type": "code",
      "source": [
        "IQR = Q3 - Q1\n",
        "print(f\"IQR in price: {IQR}\")"
      ],
      "metadata": {
        "colab": {
          "base_uri": "https://localhost:8080/"
        },
        "id": "5KVHJf_xjY2R",
        "outputId": "6b4aa5bb-778c-4456-d39a-0d4f6b64728d"
      },
      "execution_count": null,
      "outputs": [
        {
          "output_type": "stream",
          "name": "stdout",
          "text": [
            "IQR in price: 996000.0\n"
          ]
        }
      ]
    },
    {
      "cell_type": "code",
      "source": [
        "lower_bound = 1.5 * IQR - Q1\n",
        "upper_bound = Q3 + 1.5 * IQR\n",
        "print(f\"Lower bound in price: {lower_bound}\")\n",
        "print(f\"Upper bound in price: {upper_bound}\")"
      ],
      "metadata": {
        "colab": {
          "base_uri": "https://localhost:8080/"
        },
        "id": "oIxIYRiKjetn",
        "outputId": "81d80823-6f62-4a46-b7c9-b6f8af27c1cc"
      },
      "execution_count": null,
      "outputs": [
        {
          "output_type": "stream",
          "name": "stdout",
          "text": [
            "Lower bound in price: 995000.0\n",
            "Upper bound in price: 2989000.0\n"
          ]
        }
      ]
    },
    {
      "cell_type": "code",
      "source": [
        "outliers = df[(df[\"PRICE\"] < lower_bound) | (df[\"PRICE\"] > upper_bound)]\n",
        "print(outliers)"
      ],
      "metadata": {
        "id": "v-UvYgNIjrCu",
        "outputId": "741c4abc-2177-4b18-9b3f-bf6d5ac48083",
        "colab": {
          "base_uri": "https://localhost:8080/"
        }
      },
      "execution_count": null,
      "outputs": [
        {
          "output_type": "stream",
          "name": "stdout",
          "text": [
            "                                            BROKERTITLE  \\\n",
            "0           Brokered by Douglas Elliman  -111 Fifth Ave   \n",
            "1                                   Brokered by Serhant   \n",
            "2                                Brokered by Sowae Corp   \n",
            "3                                   Brokered by COMPASS   \n",
            "4     Brokered by Sotheby's International Realty - E...   \n",
            "...                                                 ...   \n",
            "4795                            Brokered by RE MAX Edge   \n",
            "4796                                Brokered by COMPASS   \n",
            "4797                    Brokered by Mjr Real Estate Llc   \n",
            "4799            Brokered by E Realty International Corp   \n",
            "4800                 Brokered by Nyc Realty Brokers Llc   \n",
            "\n",
            "                            TYPE      PRICE  BEDS       BATH  PROPERTYSQFT  \\\n",
            "0                 Condo for sale     315000     2   2.000000   1400.000000   \n",
            "1                 Condo for sale  195000000     7  10.000000  17545.000000   \n",
            "2                 House for sale     260000     4   2.000000   2015.000000   \n",
            "3                 Condo for sale      69000     3   1.000000    445.000000   \n",
            "4             Townhouse for sale   55000000     7   2.373861  14175.000000   \n",
            "...                          ...        ...   ...        ...           ...   \n",
            "4795  Multi-family home for sale    2999999    15   9.000000   3600.000000   \n",
            "4796              Co-op for sale     599000     1   1.000000   2184.207862   \n",
            "4797              Co-op for sale     245000     1   1.000000   2184.207862   \n",
            "4799              Condo for sale     598125     2   1.000000    655.000000   \n",
            "4800              Co-op for sale     349000     1   1.000000    750.000000   \n",
            "\n",
            "          SUBLOCALITY                                            ADDRESS  \n",
            "0     New York County  Regis Residence, 2 E 55th St #803, New York, N...  \n",
            "1     New York County             217 W 57th St, New York, NY 10019, USA  \n",
            "2     Richmond County     620 Sinclair Ave, Staten Island, NY 10312, USA  \n",
            "3     New York County               2 E 55th St, New York, NY 10022, USA  \n",
            "4     New York County               5 E 64th St, New York, NY 10065, USA  \n",
            "...               ...                                                ...  \n",
            "4795     Kings County            2825 W 15th St, Brooklyn, NY 11224, USA  \n",
            "4796  New York County         222 E 80th St #3a, New York, NY 10075, USA  \n",
            "4797    Queens County            97-40 62nd Dr, Rego Park, NY 11374, USA  \n",
            "4799    Queens County     91-23 Corona Ave. #4b, Flushing, NY 11373, USA  \n",
            "4800     Kings County      460 Neptune Ave #14a, Brooklyn, NY 11224, USA  \n",
            "\n",
            "[3412 rows x 8 columns]\n"
          ]
        }
      ]
    },
    {
      "cell_type": "code",
      "source": [
        "%matplotlib inline"
      ],
      "metadata": {
        "id": "ATXfKuHM8I5y"
      },
      "execution_count": null,
      "outputs": []
    },
    {
      "cell_type": "code",
      "source": [
        "# The “Co-ops for Sale” are most popular in the New York County Region. 603 out of the 1450 co-ops being sold are in this region.\n",
        "# Therefore, New York County holds 41.6% of the co-ops being sold in the New York housing market.\n",
        "\n",
        "type_sublocality_counts = df[df[\"TYPE\"] == \"Co-op for sale\"].groupby([\"SUBLOCALITY\"]).size()\n",
        "pie_chart = type_sublocality_counts.plot(kind=\"pie\", autopct='%.1f%%', textprops={'color': 'black', 'fontsize': 12, 'fontweight': 'bold'})\n",
        "for i, count in enumerate(type_sublocality_counts): pie_chart.text(x=0.2, y=0.2, s=None)\n",
        "\n",
        "\n",
        "pie_chart.set_title(\"Distribution of Co-ops for Sale by Sublocality\")\n",
        "pie_chart.set_ylabel(None)\n",
        "print(type_sublocality_counts)\n"
      ],
      "metadata": {
        "colab": {
          "base_uri": "https://localhost:8080/"
        },
        "id": "BY0Kw2e78PJ_",
        "outputId": "211b6c23-61d1-40c2-decf-326dedd89416"
      },
      "execution_count": null,
      "outputs": [
        {
          "output_type": "stream",
          "name": "stdout",
          "text": [
            "SUBLOCALITY\n",
            "Bronx County       163\n",
            "Kings County       230\n",
            "New York County    603\n",
            "Queens County      449\n",
            "Richmond County      5\n",
            "dtype: int64\n"
          ]
        },
        {
          "output_type": "display_data",
          "data": {
            "text/plain": [
              "<Figure size 640x480 with 1 Axes>"
            ],
            "image/png": "[encoded data removed]"
          },
          "metadata": {}
        }
      ]
    },
    {
      "cell_type": "code",
      "source": [
        "%matplotlib inline"
      ],
      "metadata": {
        "id": "cD8ucPZ0YReL"
      },
      "execution_count": null,
      "outputs": []
    },
    {
      "cell_type": "code",
      "source": [
        "#Condos are also highly popular in the New York County Region.\n",
        "#405 out of the 891 condos being sold are in this region. Therefore, New York County holds 45.5% of the “condos in sale” on the New York Housing Market.\n",
        "\n",
        "type_sublocality_counts = type_sublocality_counts.rename(\"Distribution of Condo for Sale by Sublocality\")\n",
        "\n",
        "type_sublocality_counts = df[df[\"TYPE\"] == \"Condo for sale\"].groupby([\"SUBLOCALITY\"]).size()\n",
        "pie_chart = type_sublocality_counts.plot(kind=\"pie\", autopct='%.1f%%', textprops={'color': 'black', 'fontsize': 12, 'fontweight': 'bold'})\n",
        "for i, count in enumerate(type_sublocality_counts): pie_chart.text(x=0.2, y=0.2, s=None)\n",
        "type_sublocality_counts.name = \"Distribution of Condo for Sale by Sublocality\" # Set the title of the Series object\n",
        "\n",
        "pie_chart.set_title(\"Distribution of Condo for Sale by Sublocality\")\n",
        "pie_chart.set_ylabel(None)\n",
        "\n",
        "print(type_sublocality_counts)"
      ],
      "metadata": {
        "id": "ayzvrcy1-Uxg",
        "colab": {
          "base_uri": "https://localhost:8080/"
        },
        "outputId": "1bbfc46c-d570-4082-ca69-1f429066d433"
      },
      "execution_count": null,
      "outputs": [
        {
          "output_type": "stream",
          "name": "stdout",
          "text": [
            "SUBLOCALITY\n",
            "Bronx County        40\n",
            "Kings County       228\n",
            "New York County    405\n",
            "Queens County      171\n",
            "Richmond County     47\n",
            "Name: Distribution of Condo for Sale by Sublocality, dtype: int64\n"
          ]
        },
        {
          "output_type": "display_data",
          "data": {
            "text/plain": [
              "<Figure size 640x480 with 1 Axes>"
            ],
            "image/png": "[encoded data removed]"
          },
          "metadata": {}
        }
      ]
    },
    {
      "cell_type": "code",
      "source": [
        "%matplotlib inline"
      ],
      "metadata": {
        "id": "D5cgePCIsuFJ"
      },
      "execution_count": null,
      "outputs": []
    },
    {
      "cell_type": "code",
      "source": [
        "# 57% of the foreclosures taking place are in the Richmond County Area.\n",
        "# There are 14 foreclosures occurring and Richmond county holds 8 of these closures.\n",
        "\n",
        "type_sublocality_counts = df[df[\"TYPE\"] == \"Foreclosure\"].groupby([\"SUBLOCALITY\"]).size()\n",
        "pie_chart = type_sublocality_counts.plot(kind=\"bar\", x=\"location\", y=\"Number of Foreclosures\")\n",
        "pie_chart.set_ylabel('Number of Foreclosures')\n",
        "pie_chart.set_xlabel('Sublocality')\n",
        "pie_chart.set_title('Sublocality Foreclosure Rates', fontdict={'color': 'black', 'fontsize': 14, 'fontweight': 'bold'})\n",
        "print(type_sublocality_counts)"
      ],
      "metadata": {
        "colab": {
          "base_uri": "https://localhost:8080/"
        },
        "id": "5kYZoX688C21",
        "outputId": "138b06f9-8f5b-4048-f617-29899841f470"
      },
      "execution_count": null,
      "outputs": [
        {
          "output_type": "stream",
          "name": "stdout",
          "text": [
            "SUBLOCALITY\n",
            "Bronx County       1\n",
            "Kings County       1\n",
            "New York County    2\n",
            "Queens County      2\n",
            "Richmond County    8\n",
            "dtype: int64\n"
          ]
        },
        {
          "output_type": "display_data",
          "data": {
            "text/plain": [
              "<Figure size 640x480 with 1 Axes>"
            ],
            "image/png": "[encoded data removed]"
          },
          "metadata": {}
        }
      ]
    },
    {
      "cell_type": "code",
      "source": [
        "%matplotlib inline"
      ],
      "metadata": {
        "id": "qNTXSCYhYazr"
      },
      "execution_count": null,
      "outputs": []
    },
    {
      "cell_type": "code",
      "source": [
        "#Most multi family homes that are being sold are in the Kings County Region.\n",
        "#It holds 263 of the 727 of these homes being sold and therefore,\n",
        "#Kings County holds 36% of the multi-family homes being sold in New York.\n",
        "\n",
        "\n",
        "type_sublocality_counts = df[df[\"TYPE\"] == \"Multi-family home for sale\"].groupby([\"SUBLOCALITY\"]).size()\n",
        "pie_chart = type_sublocality_counts.plot(kind=\"bar\", x=\"location\", y=\"Number of Foreclosures\")\n",
        "\n",
        "\n",
        "for i, count in enumerate(type_sublocality_counts):\n",
        " pie_chart.text(i, count, str(count), ha='center', va='bottom')\n",
        "\n",
        "\n",
        "\n",
        "\n",
        "pie_chart.set_ylabel('Multi-Family Homes')\n",
        "pie_chart.set_xlabel('Sublocality')\n",
        "pie_chart.set_title('Multi-Family Home Sales by Sublocality', fontdict={'color': 'black', 'fontsize': 14, 'fontweight': 'bold'})\n",
        "\n",
        "\n",
        "print(type_sublocality_counts)\n"
      ],
      "metadata": {
        "colab": {
          "base_uri": "https://localhost:8080/"
        },
        "id": "FAiQicDWYepv",
        "outputId": "dd1982a6-dbf2-4ce9-ff6a-9d48ac8bc1ce"
      },
      "execution_count": null,
      "outputs": [
        {
          "output_type": "stream",
          "name": "stdout",
          "text": [
            "SUBLOCALITY\n",
            "Bronx County       134\n",
            "Kings County       263\n",
            "New York County     36\n",
            "Queens County      211\n",
            "Richmond County     83\n",
            "dtype: int64\n"
          ]
        },
        {
          "output_type": "display_data",
          "data": {
            "text/plain": [
              "<Figure size 640x480 with 1 Axes>"
            ],
            "image/png": "[encoded data removed]"
          },
          "metadata": {}
        }
      ]
    },
    {
      "cell_type": "code",
      "source": [
        "%matplotlib inline"
      ],
      "metadata": {
        "id": "cdD2As2GYfW2"
      },
      "execution_count": null,
      "outputs": []
    },
    {
      "cell_type": "code",
      "source": [
        "# The least popular home type being sold is  “mobile home.”\n",
        "# It takes up less than 1% of the housing market.\n",
        "\n",
        "import matplotlib.pyplot as plt\n",
        "\n",
        "type_distribution = df[\"TYPE\"].value_counts()\n",
        "threshold = 0\n",
        "\n",
        "total = type_distribution.sum()\n",
        "percentages = 100 * type_distribution / total\n",
        "filtered_percentages = percentages[percentages >= threshold]\n",
        "\n",
        "plt.figure(figsize=(8, 6))\n",
        "histogram = filtered_percentages.plot(kind=\"bar\", color='skyblue', edgecolor='black', linewidth=1, alpha=0.7)\n",
        "\n",
        "plt.title('Home Type Distribution', fontdict={'color': 'black', 'fontsize': 14, 'fontweight': 'bold'})\n",
        "plt.xlabel('Home Type', fontdict={'color': 'black', 'fontsize': 12})\n",
        "plt.ylabel('Percentage', fontdict={'color': 'black', 'fontsize': 12})\n",
        "plt.xticks(rotation=45, ha='right')\n",
        "\n",
        "plt.show()\n",
        "\n",
        "print(type_distribution)"
      ],
      "metadata": {
        "colab": {
          "base_uri": "https://localhost:8080/"
        },
        "id": "z4l8lnY8wchJ",
        "outputId": "d0c98892-7f24-478b-b97c-cc16d9aa8ecd"
      },
      "execution_count": null,
      "outputs": [
        {
          "output_type": "display_data",
          "data": {
            "text/plain": [
              "<Figure size 800x600 with 1 Axes>"
            ],
            "image/png": "[encoded data removed]"
          },
          "metadata": {}
        },
        {
          "output_type": "stream",
          "name": "stdout",
          "text": [
            "TYPE\n",
            "Co-op for sale                1450\n",
            "House for sale                1012\n",
            "Condo for sale                 891\n",
            "Multi-family home for sale     727\n",
            "Townhouse for sale             299\n",
            "Pending                        243\n",
            "Contingent                      88\n",
            "Land for sale                   49\n",
            "For sale                        20\n",
            "Foreclosure                     14\n",
            "Condop for sale                  5\n",
            "Coming Soon                      2\n",
            "Mobile house for sale            1\n",
            "Name: count, dtype: int64\n"
          ]
        }
      ]
    },
    {
      "cell_type": "code",
      "source": [
        "import sqlite3"
      ],
      "metadata": {
        "id": "V5NzPozgjwEm"
      },
      "execution_count": null,
      "outputs": []
    },
    {
      "cell_type": "code",
      "source": [
        "import pandas as pd\n"
      ],
      "metadata": {
        "id": "4i5ec62Ho8Pe"
      },
      "execution_count": null,
      "outputs": []
    },
    {
      "cell_type": "code",
      "source": [
        "conn = sqlite3.connect(\"Housing.db\")"
      ],
      "metadata": {
        "id": "DSiR1jmsE7jd"
      },
      "execution_count": null,
      "outputs": []
    },
    {
      "cell_type": "code",
      "source": [
        "df = pd.read_csv(\"NY-House-Dataset.csv.zip\")\n",
        "df = df.drop(axis=1,columns=[\"ADDRESS\", \"STATE\", \"MAIN_ADDRESS\", \"ADMINISTRATIVE_AREA_LEVEL_2\", \"STREET_NAME\", \"LONG_NAME\", \"LATITUDE\", \"LONGITUDE\", \"LOCALITY\"])\n"
      ],
      "metadata": {
        "id": "LAqW-7_5FCrn"
      },
      "execution_count": null,
      "outputs": []
    },
    {
      "cell_type": "code",
      "source": [
        "df.to_sql(name=\"Housing\",con=conn,if_exists='replace',index=False)\n"
      ],
      "metadata": {
        "colab": {
          "base_uri": "https://localhost:8080/"
        },
        "id": "SMxi_L3MXteo",
        "outputId": "c52783d9-047d-4a80-ee4a-a5708994eba3"
      },
      "execution_count": null,
      "outputs": [
        {
          "output_type": "execute_result",
          "data": {
            "text/plain": [
              "4801"
            ]
          },
          "metadata": {},
          "execution_count": 52
        }
      ]
    },
    {
      "cell_type": "code",
      "source": [
        "%reload_ext sql\n",
        "%sql sqlite:///Housing.db"
      ],
      "metadata": {
        "id": "GNBXEl9xSLyX"
      },
      "execution_count": null,
      "outputs": []
    },
    {
      "cell_type": "code",
      "source": [
        "%%sql\n",
        "\n",
        "select * from Housing where Beds>30"
      ],
      "metadata": {
        "colab": {
          "base_uri": "https://localhost:8080/"
        },
        "id": "vr-Q2ifhYJV6",
        "outputId": "141b7fe0-8edc-4274-8467-9bc0f35a0e1f"
      },
      "execution_count": null,
      "outputs": [
        {
          "output_type": "stream",
          "name": "stdout",
          "text": [
            " * sqlite:///Housing.db\n",
            "Done.\n"
          ]
        },
        {
          "output_type": "execute_result",
          "data": {
            "text/plain": [
              "[('Brokered by RE MAX Edge', 'Multi-family home for sale', 4380000, 35, 16.0, 15000.0, 'Kings County', '8699 Bay Pkwy #16, Brooklyn, NY 11214, USA'),\n",
              " ('Brokered by Blue Key Real Estate Brokerage', 'Multi-family home for sale', 11000000, 50, 50.0, 22035.0, 'Kings County', '8820 Avenue J, Brooklyn, NY 11236, USA'),\n",
              " ('Brokered by Coldwell Banker Reliable', 'House for sale', 4000000, 32, 12.0, 7188.0, 'New York County', '150 E 105th St, New York, NY 10029, USA'),\n",
              " ('Brokered by RE MAX Real Estate Professionals', 'Multi-family home for sale', 3099000, 36, 16.0, 12460.0, 'Kings County', '5206 6th Ave, Brooklyn, NY 11220, USA'),\n",
              " ('Brokered by NEUHAUS REALTY INC.', 'Multi-family home for sale', 10700000, 42, 43.0, 27152.0, 'Richmond County', '646 Port Richmond Ave, Staten Island, NY 10302, USA'),\n",
              " ('Brokered by Weichert Realtors TMT Group', 'Multi-family home for sale', 5980000, 40, 20.0, 15500.0, 'Queens County', '35-54 95th St, Flushing, NY 11372, USA'),\n",
              " ('Brokered by Coldwell Banker Reliable Real Estate', 'Multi-family home for sale', 4000000, 32, 12.0, 7200.0, 'New York County', '154 E 105th St, New York, NY 10029, USA')]"
            ],
            "text/html": [
              "<table>\n",
              "    <thead>\n",
              "        <tr>\n",
              "            <th>BROKERTITLE</th>\n",
              "            <th>TYPE</th>\n",
              "            <th>PRICE</th>\n",
              "            <th>BEDS</th>\n",
              "            <th>BATH</th>\n",
              "            <th>PROPERTYSQFT</th>\n",
              "            <th>SUBLOCALITY</th>\n",
              "            <th>FORMATTED_ADDRESS</th>\n",
              "        </tr>\n",
              "    </thead>\n",
              "    <tbody>\n",
              "        <tr>\n",
              "            <td>Brokered by RE MAX Edge</td>\n",
              "            <td>Multi-family home for sale</td>\n",
              "            <td>4380000</td>\n",
              "            <td>35</td>\n",
              "            <td>16.0</td>\n",
              "            <td>15000.0</td>\n",
              "            <td>Kings County</td>\n",
              "            <td>8699 Bay Pkwy #16, Brooklyn, NY 11214, USA</td>\n",
              "        </tr>\n",
              "        <tr>\n",
              "            <td>Brokered by Blue Key Real Estate Brokerage</td>\n",
              "            <td>Multi-family home for sale</td>\n",
              "            <td>11000000</td>\n",
              "            <td>50</td>\n",
              "            <td>50.0</td>\n",
              "            <td>22035.0</td>\n",
              "            <td>Kings County</td>\n",
              "            <td>8820 Avenue J, Brooklyn, NY 11236, USA</td>\n",
              "        </tr>\n",
              "        <tr>\n",
              "            <td>Brokered by Coldwell Banker Reliable</td>\n",
              "            <td>House for sale</td>\n",
              "            <td>4000000</td>\n",
              "            <td>32</td>\n",
              "            <td>12.0</td>\n",
              "            <td>7188.0</td>\n",
              "            <td>New York County</td>\n",
              "            <td>150 E 105th St, New York, NY 10029, USA</td>\n",
              "        </tr>\n",
              "        <tr>\n",
              "            <td>Brokered by RE MAX Real Estate Professionals</td>\n",
              "            <td>Multi-family home for sale</td>\n",
              "            <td>3099000</td>\n",
              "            <td>36</td>\n",
              "            <td>16.0</td>\n",
              "            <td>12460.0</td>\n",
              "            <td>Kings County</td>\n",
              "            <td>5206 6th Ave, Brooklyn, NY 11220, USA</td>\n",
              "        </tr>\n",
              "        <tr>\n",
              "            <td>Brokered by NEUHAUS REALTY INC.</td>\n",
              "            <td>Multi-family home for sale</td>\n",
              "            <td>10700000</td>\n",
              "            <td>42</td>\n",
              "            <td>43.0</td>\n",
              "            <td>27152.0</td>\n",
              "            <td>Richmond County</td>\n",
              "            <td>646 Port Richmond Ave, Staten Island, NY 10302, USA</td>\n",
              "        </tr>\n",
              "        <tr>\n",
              "            <td>Brokered by Weichert Realtors TMT Group</td>\n",
              "            <td>Multi-family home for sale</td>\n",
              "            <td>5980000</td>\n",
              "            <td>40</td>\n",
              "            <td>20.0</td>\n",
              "            <td>15500.0</td>\n",
              "            <td>Queens County</td>\n",
              "            <td>35-54 95th St, Flushing, NY 11372, USA</td>\n",
              "        </tr>\n",
              "        <tr>\n",
              "            <td>Brokered by Coldwell Banker Reliable Real Estate</td>\n",
              "            <td>Multi-family home for sale</td>\n",
              "            <td>4000000</td>\n",
              "            <td>32</td>\n",
              "            <td>12.0</td>\n",
              "            <td>7200.0</td>\n",
              "            <td>New York County</td>\n",
              "            <td>154 E 105th St, New York, NY 10029, USA</td>\n",
              "        </tr>\n",
              "    </tbody>\n",
              "</table>"
            ]
          },
          "metadata": {},
          "execution_count": 54
        }
      ]
    },
    {
      "cell_type": "code",
      "source": [
        "%%sql\n",
        "select * from Housing where Price >10000000 AND TYPE = \"House for sale\" AND SUBLOCALITY = \"Queens County\""
      ],
      "metadata": {
        "colab": {
          "base_uri": "https://localhost:8080/"
        },
        "id": "lTAYuFosb4fN",
        "outputId": "c33392e7-8fc9-450c-c7c4-49bd90530bea"
      },
      "execution_count": null,
      "outputs": [
        {
          "output_type": "stream",
          "name": "stdout",
          "text": [
            " * sqlite:///Housing.db\n",
            "Done.\n"
          ]
        },
        {
          "output_type": "execute_result",
          "data": {
            "text/plain": [
              "[('Brokered by RE/MAX Team', 'House for sale', 15000000, 3, 2.0, 2184.207862, 'Queens County', '89-02 171st St, Jamaica, NY 11432, USA')]"
            ],
            "text/html": [
              "<table>\n",
              "    <thead>\n",
              "        <tr>\n",
              "            <th>BROKERTITLE</th>\n",
              "            <th>TYPE</th>\n",
              "            <th>PRICE</th>\n",
              "            <th>BEDS</th>\n",
              "            <th>BATH</th>\n",
              "            <th>PROPERTYSQFT</th>\n",
              "            <th>SUBLOCALITY</th>\n",
              "            <th>FORMATTED_ADDRESS</th>\n",
              "        </tr>\n",
              "    </thead>\n",
              "    <tbody>\n",
              "        <tr>\n",
              "            <td>Brokered by RE/MAX Team</td>\n",
              "            <td>House for sale</td>\n",
              "            <td>15000000</td>\n",
              "            <td>3</td>\n",
              "            <td>2.0</td>\n",
              "            <td>2184.207862</td>\n",
              "            <td>Queens County</td>\n",
              "            <td>89-02 171st St, Jamaica, NY 11432, USA</td>\n",
              "        </tr>\n",
              "    </tbody>\n",
              "</table>"
            ]
          },
          "metadata": {},
          "execution_count": 55
        }
      ]
    }
  ]
}